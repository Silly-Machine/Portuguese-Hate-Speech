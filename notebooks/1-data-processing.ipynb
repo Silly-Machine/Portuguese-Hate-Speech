{
 "cells": [
  {
   "cell_type": "markdown",
   "metadata": {},
   "source": [
    "## Requirements\n"
   ]
  },
  {
   "cell_type": "code",
   "execution_count": 1,
   "metadata": {},
   "outputs": [],
   "source": [
    "# Directory adjustment\n",
    "from pathlib import Path\n",
    "import sys\n",
    "import os\n",
    "\n",
    "# Back to main folder\n",
    "path = os.path.dirname(os.getcwd())+\"/\"\n",
    "os.chdir(path)\n",
    "sys.path.append(path)\n"
   ]
  },
  {
   "cell_type": "code",
   "execution_count": 2,
   "metadata": {},
   "outputs": [],
   "source": [
    "# Packges\n",
    "import pandas as pd\n",
    "from sklearn.model_selection import train_test_split\n"
   ]
  },
  {
   "cell_type": "markdown",
   "metadata": {},
   "source": [
    "## ETL\n"
   ]
  },
  {
   "cell_type": "code",
   "execution_count": 3,
   "metadata": {},
   "outputs": [
    {
     "data": {
      "text/html": [
       "<div>\n",
       "<style scoped>\n",
       "    .dataframe tbody tr th:only-of-type {\n",
       "        vertical-align: middle;\n",
       "    }\n",
       "\n",
       "    .dataframe tbody tr th {\n",
       "        vertical-align: top;\n",
       "    }\n",
       "\n",
       "    .dataframe thead th {\n",
       "        text-align: right;\n",
       "    }\n",
       "</style>\n",
       "<table border=\"1\" class=\"dataframe\">\n",
       "  <thead>\n",
       "    <tr style=\"text-align: right;\">\n",
       "      <th></th>\n",
       "      <th>text</th>\n",
       "      <th>label</th>\n",
       "    </tr>\n",
       "  </thead>\n",
       "  <tbody>\n",
       "    <tr>\n",
       "      <th>0</th>\n",
       "      <td>@__andrea__b \\nO cara vive em outro mundo\\nNão...</td>\n",
       "      <td>1</td>\n",
       "    </tr>\n",
       "    <tr>\n",
       "      <th>1</th>\n",
       "      <td>@_carmeloneto Estes incompetentes não cuidam n...</td>\n",
       "      <td>0</td>\n",
       "    </tr>\n",
       "    <tr>\n",
       "      <th>2</th>\n",
       "      <td>@_carmeloneto \\nOs 'cumpanhero' quebraram toda...</td>\n",
       "      <td>0</td>\n",
       "    </tr>\n",
       "    <tr>\n",
       "      <th>3</th>\n",
       "      <td>@_GlitteryKisses é isso não conseguem pensar n...</td>\n",
       "      <td>0</td>\n",
       "    </tr>\n",
       "    <tr>\n",
       "      <th>4</th>\n",
       "      <td>@_iglira bom dia macaco branco haha</td>\n",
       "      <td>1</td>\n",
       "    </tr>\n",
       "    <tr>\n",
       "      <th>5</th>\n",
       "      <td>@_Ioen imagino...  ow mandei fazer um body opr...</td>\n",
       "      <td>0</td>\n",
       "    </tr>\n",
       "    <tr>\n",
       "      <th>6</th>\n",
       "      <td>@_Ioen parabéns brou! Menina é bom demais!</td>\n",
       "      <td>0</td>\n",
       "    </tr>\n",
       "    <tr>\n",
       "      <th>7</th>\n",
       "      <td>@_Ioen PARABÉNS IRMÃO, SAÚDE E #PAZ. AMÉM.</td>\n",
       "      <td>0</td>\n",
       "    </tr>\n",
       "    <tr>\n",
       "      <th>8</th>\n",
       "      <td>@_jujuba_lima Ah, convivendo apenas comigo ess...</td>\n",
       "      <td>0</td>\n",
       "    </tr>\n",
       "    <tr>\n",
       "      <th>9</th>\n",
       "      <td>@_jujuba_lima E o sono... rs. Cheiros. Tb adorei!</td>\n",
       "      <td>0</td>\n",
       "    </tr>\n",
       "  </tbody>\n",
       "</table>\n",
       "</div>"
      ],
      "text/plain": [
       "                                                text  label\n",
       "0  @__andrea__b \\nO cara vive em outro mundo\\nNão...      1\n",
       "1  @_carmeloneto Estes incompetentes não cuidam n...      0\n",
       "2  @_carmeloneto \\nOs 'cumpanhero' quebraram toda...      0\n",
       "3  @_GlitteryKisses é isso não conseguem pensar n...      0\n",
       "4                @_iglira bom dia macaco branco haha      1\n",
       "5  @_Ioen imagino...  ow mandei fazer um body opr...      0\n",
       "6         @_Ioen parabéns brou! Menina é bom demais!      0\n",
       "7         @_Ioen PARABÉNS IRMÃO, SAÚDE E #PAZ. AMÉM.      0\n",
       "8  @_jujuba_lima Ah, convivendo apenas comigo ess...      0\n",
       "9  @_jujuba_lima E o sono... rs. Cheiros. Tb adorei!      0"
      ]
     },
     "execution_count": 3,
     "metadata": {},
     "output_type": "execute_result"
    }
   ],
   "source": [
    "# Get data from Furtado's repository\n",
    "dataset_fortuna = pd.read_csv(\n",
    "    \"https://raw.githubusercontent.com/paulafortuna/Portuguese-Hate-Speech-Dataset/master/2019-05-28_portuguese_hate_speech_binary_classification.csv\"\n",
    ")\n",
    "\n",
    "# Label\n",
    "dataset_fortuna[\"label\"] = (\n",
    "    dataset_fortuna.hatespeech_G1\n",
    "    + dataset_fortuna.hatespeech_G2\n",
    "    + dataset_fortuna.hatespeech_G3\n",
    ").apply(lambda x: 1 if x >= 2 else 0)\n",
    "\n",
    "# Local save\n",
    "df_raw = dataset_fortuna[[\"text\", \"label\"]]\n",
    "df_raw.to_csv(\"data/corpus/raw_corpus_fortuna.csv\", index=False)\n",
    "\n",
    "# DVC\n",
    "test_size = 0.1\n",
    "dvc_path = f\"data/corpus/test_size_{str(int(test_size*100))}\"\n",
    "\n",
    "if not os.path.exists(dvc_path):\n",
    "    # Train and test\n",
    "    df_train, df_test = train_test_split(\n",
    "        df_raw, stratify=df_raw[\"label\"], test_size=test_size, random_state=42\n",
    "    )\n",
    "    # Save in the correct path\n",
    "    Path(f\"{dvc_path}\").mkdir(parents=True, exist_ok=True)\n",
    "    df_train.to_csv(f\"{dvc_path}/train_data.csv\", index=False)\n",
    "    df_test.to_csv(f\"{dvc_path}/test_data.csv\", index=False)\n",
    "\n",
    "\n",
    "# View\n",
    "pd.read_csv(\"data/corpus/raw_corpus_fortuna.csv\").head(10)\n"
   ]
  }
 ],
 "metadata": {
  "kernelspec": {
   "display_name": "Python 3.8.13 ('hate-seepch')",
   "language": "python",
   "name": "python3"
  },
  "language_info": {
   "codemirror_mode": {
    "name": "ipython",
    "version": 3
   },
   "file_extension": ".py",
   "mimetype": "text/x-python",
   "name": "python",
   "nbconvert_exporter": "python",
   "pygments_lexer": "ipython3",
   "version": "3.8.13"
  },
  "orig_nbformat": 4,
  "vscode": {
   "interpreter": {
    "hash": "7304d3c1a35396b9e299acc644b89f0e56d4154029b20ed6ab08effb23ac070c"
   }
  }
 },
 "nbformat": 4,
 "nbformat_minor": 2
}
