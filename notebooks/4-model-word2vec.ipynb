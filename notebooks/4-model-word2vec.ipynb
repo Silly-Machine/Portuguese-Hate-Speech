{
 "cells": [
  {
   "cell_type": "markdown",
   "metadata": {},
   "source": [
    "## Requirements\n"
   ]
  },
  {
   "cell_type": "markdown",
   "metadata": {},
   "source": [
    "#### Directory adjustment\n"
   ]
  },
  {
   "cell_type": "code",
   "execution_count": 1,
   "metadata": {},
   "outputs": [],
   "source": [
    "from pathlib import Path\n",
    "import sys\n",
    "import os\n",
    "\n",
    "# Back to main folder\n",
    "path = os.path.dirname(os.getcwd()) + \"/\"\n",
    "os.chdir(path)\n",
    "sys.path.append(path)\n"
   ]
  },
  {
   "cell_type": "markdown",
   "metadata": {},
   "source": [
    "#### Charts\n"
   ]
  },
  {
   "cell_type": "code",
   "execution_count": 2,
   "metadata": {},
   "outputs": [
    {
     "name": "stderr",
     "output_type": "stream",
     "text": [
      "/home/kunumi/miniconda3/envs/hate-seepch/lib/python3.8/site-packages/scipy/__init__.py:146: UserWarning: A NumPy version >=1.16.5 and <1.23.0 is required for this version of SciPy (detected version 1.23.1\n",
      "  warnings.warn(f\"A NumPy version >={np_minversion} and <{np_maxversion}\"\n"
     ]
    }
   ],
   "source": [
    "from IPython.display import SVG, display\n",
    "import matplotlib.pyplot as plt\n",
    "import seaborn as sns\n"
   ]
  },
  {
   "cell_type": "markdown",
   "metadata": {},
   "source": [
    "#### Data Processing\n"
   ]
  },
  {
   "cell_type": "code",
   "execution_count": 3,
   "metadata": {},
   "outputs": [],
   "source": [
    "# ETL\n",
    "import numpy as np\n",
    "import pandas as pd\n",
    "\n",
    "# ML preprocessing\n",
    "from sklearn.preprocessing import label_binarize\n",
    "from sklearn.model_selection import train_test_split\n",
    "from sklearn.preprocessing import StandardScaler\n",
    "from sklearn.model_selection import KFold\n",
    "from sklearn.feature_selection import chi2\n"
   ]
  },
  {
   "cell_type": "code",
   "execution_count": 4,
   "metadata": {},
   "outputs": [],
   "source": [
    "from gensim.models import Doc2Vec\n"
   ]
  },
  {
   "cell_type": "markdown",
   "metadata": {},
   "source": [
    "#### Natural language processing\n"
   ]
  },
  {
   "cell_type": "code",
   "execution_count": 5,
   "metadata": {},
   "outputs": [],
   "source": [
    "from gensim.models.doc2vec import TaggedDocument\n",
    "from gensim.models import Doc2Vec\n",
    "import gensim\n"
   ]
  },
  {
   "cell_type": "code",
   "execution_count": 6,
   "metadata": {},
   "outputs": [],
   "source": [
    "from src.TextVectorization import MeanEmbeddingVectorizer\n",
    "\n",
    "# import spacy\n",
    "import re\n",
    "\n",
    "# Vectorization\n",
    "from sklearn.feature_extraction.text import CountVectorizer\n",
    "from sklearn.feature_extraction.text import TfidfVectorizer\n"
   ]
  },
  {
   "cell_type": "markdown",
   "metadata": {},
   "source": [
    "#### Models\n"
   ]
  },
  {
   "cell_type": "code",
   "execution_count": 7,
   "metadata": {},
   "outputs": [],
   "source": [
    "# Pipe\n",
    "from sklearn.pipeline import Pipeline\n",
    "\n",
    "# Models\n",
    "from sklearn.ensemble import RandomForestClassifier\n",
    "from sklearn.linear_model import LogisticRegression\n",
    "from sklearn.multiclass import OneVsRestClassifier\n",
    "from sklearn.tree import DecisionTreeClassifier\n",
    "from sklearn.linear_model import SGDClassifier\n",
    "from sklearn.naive_bayes import MultinomialNB\n",
    "from sklearn.naive_bayes import BernoulliNB\n",
    "from sklearn.svm import LinearSVC\n",
    "from sklearn import svm\n",
    "\n",
    "\n",
    "# Metrics\n",
    "from sklearn.metrics import balanced_accuracy_score\n",
    "from sklearn.model_selection import cross_val_score\n",
    "from sklearn.metrics import classification_report\n"
   ]
  },
  {
   "cell_type": "code",
   "execution_count": 8,
   "metadata": {},
   "outputs": [],
   "source": [
    "from gensim.models import KeyedVectors\n",
    "from gensim import models\n",
    "import gensim\n"
   ]
  },
  {
   "cell_type": "code",
   "execution_count": 9,
   "metadata": {},
   "outputs": [],
   "source": [
    "# class MeanEmbeddingVectorizer(object):\n",
    "#     def __init__(self, word2vec):\n",
    "#         self.word2vec = word2vec\n",
    "#         # if a text is empty we should return a vector of zeros\n",
    "#         # with the same dimensionality as all the other vectors\n",
    "#         self.dim = int(np.mean([len(v) for v in word2vec.values()]))\n",
    "\n",
    "#     def fit(self, X, y=None):\n",
    "#         return self\n",
    "\n",
    "#     def transform(self, X):\n",
    "#         return np.array(\n",
    "#             [\n",
    "#                 np.mean(\n",
    "#                     [self.word2vec[w] for w in words if w in self.word2vec]\n",
    "#                     or [np.zeros(self.dim)],\n",
    "#                     axis=0,\n",
    "#                 )\n",
    "#                 for words in X\n",
    "#             ]\n",
    "#         )\n"
   ]
  },
  {
   "cell_type": "markdown",
   "metadata": {},
   "source": [
    "## Set and split train and test data\n"
   ]
  },
  {
   "cell_type": "code",
   "execution_count": 10,
   "metadata": {},
   "outputs": [
    {
     "data": {
      "text/html": [
       "<div>\n",
       "<style scoped>\n",
       "    .dataframe tbody tr th:only-of-type {\n",
       "        vertical-align: middle;\n",
       "    }\n",
       "\n",
       "    .dataframe tbody tr th {\n",
       "        vertical-align: top;\n",
       "    }\n",
       "\n",
       "    .dataframe thead th {\n",
       "        text-align: right;\n",
       "    }\n",
       "</style>\n",
       "<table border=\"1\" class=\"dataframe\">\n",
       "  <thead>\n",
       "    <tr style=\"text-align: right;\">\n",
       "      <th></th>\n",
       "      <th>text_nonstop</th>\n",
       "      <th>text_lemma</th>\n",
       "      <th>text</th>\n",
       "      <th>length_text_nonstop</th>\n",
       "      <th>length_text_lemma</th>\n",
       "      <th>length_text</th>\n",
       "      <th>label</th>\n",
       "      <th>count_word_text_nonstop</th>\n",
       "      <th>count_word_text_lemma</th>\n",
       "      <th>count_word_text</th>\n",
       "      <th>...</th>\n",
       "      <th>pron</th>\n",
       "      <th>adp</th>\n",
       "      <th>aux</th>\n",
       "      <th>cconj</th>\n",
       "      <th>num</th>\n",
       "      <th>space</th>\n",
       "      <th>intj</th>\n",
       "      <th>sym</th>\n",
       "      <th>punct</th>\n",
       "      <th>part</th>\n",
       "    </tr>\n",
       "  </thead>\n",
       "  <tbody>\n",
       "    <tr>\n",
       "      <th>0</th>\n",
       "      <td>cara vive outro mundo nao mundo real refugiado...</td>\n",
       "      <td>caro viver outro mundo nao mundo real refugiad...</td>\n",
       "      <td>nomeusuario o cara vive em outro mundo nao no ...</td>\n",
       "      <td>85</td>\n",
       "      <td>82</td>\n",
       "      <td>124</td>\n",
       "      <td>1</td>\n",
       "      <td>19</td>\n",
       "      <td>19</td>\n",
       "      <td>20</td>\n",
       "      <td>...</td>\n",
       "      <td>0</td>\n",
       "      <td>0</td>\n",
       "      <td>0</td>\n",
       "      <td>0</td>\n",
       "      <td>0</td>\n",
       "      <td>0</td>\n",
       "      <td>0</td>\n",
       "      <td>0</td>\n",
       "      <td>0</td>\n",
       "      <td>0</td>\n",
       "    </tr>\n",
       "    <tr>\n",
       "      <th>1</th>\n",
       "      <td>incompetentes nao cuidam povo brasileiro pouco...</td>\n",
       "      <td>incompetente nao cuidar povo brasileiro pouco ...</td>\n",
       "      <td>nomeusuario estes incompetentes nao cuidam nem...</td>\n",
       "      <td>69</td>\n",
       "      <td>66</td>\n",
       "      <td>108</td>\n",
       "      <td>0</td>\n",
       "      <td>20</td>\n",
       "      <td>20</td>\n",
       "      <td>20</td>\n",
       "      <td>...</td>\n",
       "      <td>0</td>\n",
       "      <td>0</td>\n",
       "      <td>0</td>\n",
       "      <td>0</td>\n",
       "      <td>0</td>\n",
       "      <td>0</td>\n",
       "      <td>0</td>\n",
       "      <td>0</td>\n",
       "      <td>0</td>\n",
       "      <td>0</td>\n",
       "    </tr>\n",
       "  </tbody>\n",
       "</table>\n",
       "<p>2 rows × 27 columns</p>\n",
       "</div>"
      ],
      "text/plain": [
       "                                        text_nonstop  \\\n",
       "0  cara vive outro mundo nao mundo real refugiado...   \n",
       "1  incompetentes nao cuidam povo brasileiro pouco...   \n",
       "\n",
       "                                          text_lemma  \\\n",
       "0  caro viver outro mundo nao mundo real refugiad...   \n",
       "1  incompetente nao cuidar povo brasileiro pouco ...   \n",
       "\n",
       "                                                text  length_text_nonstop  \\\n",
       "0  nomeusuario o cara vive em outro mundo nao no ...                   85   \n",
       "1  nomeusuario estes incompetentes nao cuidam nem...                   69   \n",
       "\n",
       "   length_text_lemma  length_text  label  count_word_text_nonstop  \\\n",
       "0                 82          124      1                       19   \n",
       "1                 66          108      0                       20   \n",
       "\n",
       "   count_word_text_lemma  count_word_text  ...  pron  adp  aux  cconj  num  \\\n",
       "0                     19               20  ...     0    0    0      0    0   \n",
       "1                     20               20  ...     0    0    0      0    0   \n",
       "\n",
       "   space  intj  sym  punct  part  \n",
       "0      0     0    0      0     0  \n",
       "1      0     0    0      0     0  \n",
       "\n",
       "[2 rows x 27 columns]"
      ]
     },
     "execution_count": 10,
     "metadata": {},
     "output_type": "execute_result"
    }
   ],
   "source": [
    "# Get data\n",
    "df = pd.read_csv(\"data/augmented_corpus_fortuna.csv\")\n",
    "df.head(2)\n"
   ]
  },
  {
   "cell_type": "code",
   "execution_count": 11,
   "metadata": {},
   "outputs": [],
   "source": [
    "# Set target and features\n",
    "target = \"label\"\n",
    "features = \"text_nonstop\"\n",
    "\n",
    "# Break apart dataset\n",
    "X = df[features].values.astype(\"U\")\n",
    "y = df[target]\n",
    "\n",
    "# Split train abd test\n",
    "X_train, X_test, y_train, y_test = train_test_split(\n",
    "    X, y, stratify=y, test_size=0.2, random_state=42\n",
    ")\n",
    "\n",
    "# Set k-fold criteria\n",
    "k_fold = KFold(n_splits=10, shuffle=True, random_state=42)\n"
   ]
  },
  {
   "cell_type": "markdown",
   "metadata": {},
   "source": [
    "## Word2Vec \n"
   ]
  },
  {
   "cell_type": "code",
   "execution_count": 12,
   "metadata": {},
   "outputs": [],
   "source": [
    "# Define corpus\n",
    "corpus = X\n"
   ]
  },
  {
   "cell_type": "code",
   "execution_count": 13,
   "metadata": {},
   "outputs": [],
   "source": [
    "# Train a own word2vec model\n",
    "own_model = gensim.models.Word2Vec(\n",
    "    corpus, vector_size=50, window=8, min_count=5, sg=1, workers=4, batch_words=10000\n",
    ")\n",
    "\n",
    "own_w2v = dict(zip(own_model.wv.index_to_key, own_model.wv.vectors))\n"
   ]
  },
  {
   "cell_type": "code",
   "execution_count": 14,
   "metadata": {},
   "outputs": [],
   "source": [
    "# Load a pre-trained model\n",
    "pretrained_model = models.KeyedVectors.load_word2vec_format(\n",
    "    \"data/skip_s50.txt\", binary=False\n",
    ")\n",
    "pretrained_w2v = dict(zip(pretrained_model.index_to_key, pretrained_model.vectors))\n"
   ]
  },
  {
   "cell_type": "code",
   "execution_count": 15,
   "metadata": {},
   "outputs": [
    {
     "data": {
      "text/html": [
       "<div>\n",
       "<style scoped>\n",
       "    .dataframe tbody tr th:only-of-type {\n",
       "        vertical-align: middle;\n",
       "    }\n",
       "\n",
       "    .dataframe tbody tr th {\n",
       "        vertical-align: top;\n",
       "    }\n",
       "\n",
       "    .dataframe thead th {\n",
       "        text-align: right;\n",
       "    }\n",
       "</style>\n",
       "<table border=\"1\" class=\"dataframe\">\n",
       "  <thead>\n",
       "    <tr style=\"text-align: right;\">\n",
       "      <th></th>\n",
       "      <th>precision</th>\n",
       "      <th>recall</th>\n",
       "      <th>f1-score</th>\n",
       "      <th>support</th>\n",
       "    </tr>\n",
       "  </thead>\n",
       "  <tbody>\n",
       "    <tr>\n",
       "      <th>0</th>\n",
       "      <td>0.719737</td>\n",
       "      <td>0.703990</td>\n",
       "      <td>0.711776</td>\n",
       "      <td>777.000000</td>\n",
       "    </tr>\n",
       "    <tr>\n",
       "      <th>1</th>\n",
       "      <td>0.385027</td>\n",
       "      <td>0.403361</td>\n",
       "      <td>0.393981</td>\n",
       "      <td>357.000000</td>\n",
       "    </tr>\n",
       "    <tr>\n",
       "      <th>accuracy</th>\n",
       "      <td>0.609347</td>\n",
       "      <td>0.609347</td>\n",
       "      <td>0.609347</td>\n",
       "      <td>0.609347</td>\n",
       "    </tr>\n",
       "    <tr>\n",
       "      <th>macro avg</th>\n",
       "      <td>0.552382</td>\n",
       "      <td>0.553676</td>\n",
       "      <td>0.552879</td>\n",
       "      <td>1134.000000</td>\n",
       "    </tr>\n",
       "    <tr>\n",
       "      <th>weighted avg</th>\n",
       "      <td>0.614365</td>\n",
       "      <td>0.609347</td>\n",
       "      <td>0.611730</td>\n",
       "      <td>1134.000000</td>\n",
       "    </tr>\n",
       "  </tbody>\n",
       "</table>\n",
       "</div>"
      ],
      "text/plain": [
       "              precision    recall  f1-score      support\n",
       "0              0.719737  0.703990  0.711776   777.000000\n",
       "1              0.385027  0.403361  0.393981   357.000000\n",
       "accuracy       0.609347  0.609347  0.609347     0.609347\n",
       "macro avg      0.552382  0.553676  0.552879  1134.000000\n",
       "weighted avg   0.614365  0.609347  0.611730  1134.000000"
      ]
     },
     "execution_count": 15,
     "metadata": {},
     "output_type": "execute_result"
    }
   ],
   "source": [
    "# Basic pipeline\n",
    "clf_own = Pipeline(\n",
    "    [\n",
    "        (\"word2vec vectorizer\", MeanEmbeddingVectorizer(own_w2v)),\n",
    "        (\n",
    "            \"extra trees\",\n",
    "            DecisionTreeClassifier(random_state=42, class_weight={0: 1, 1: 1.5}),\n",
    "        ),\n",
    "    ]\n",
    ")\n",
    "\n",
    "# Train\n",
    "clf_own.fit(X_train, y_train)\n",
    "\n",
    "pd.DataFrame(classification_report(y_test, clf_own.predict(X_test), output_dict=True)).T\n"
   ]
  },
  {
   "cell_type": "code",
   "execution_count": 16,
   "metadata": {},
   "outputs": [
    {
     "data": {
      "text/html": [
       "<div>\n",
       "<style scoped>\n",
       "    .dataframe tbody tr th:only-of-type {\n",
       "        vertical-align: middle;\n",
       "    }\n",
       "\n",
       "    .dataframe tbody tr th {\n",
       "        vertical-align: top;\n",
       "    }\n",
       "\n",
       "    .dataframe thead th {\n",
       "        text-align: right;\n",
       "    }\n",
       "</style>\n",
       "<table border=\"1\" class=\"dataframe\">\n",
       "  <thead>\n",
       "    <tr style=\"text-align: right;\">\n",
       "      <th></th>\n",
       "      <th>precision</th>\n",
       "      <th>recall</th>\n",
       "      <th>f1-score</th>\n",
       "      <th>support</th>\n",
       "    </tr>\n",
       "  </thead>\n",
       "  <tbody>\n",
       "    <tr>\n",
       "      <th>0</th>\n",
       "      <td>0.725032</td>\n",
       "      <td>0.719434</td>\n",
       "      <td>0.722222</td>\n",
       "      <td>777.000000</td>\n",
       "    </tr>\n",
       "    <tr>\n",
       "      <th>1</th>\n",
       "      <td>0.399449</td>\n",
       "      <td>0.406162</td>\n",
       "      <td>0.402778</td>\n",
       "      <td>357.000000</td>\n",
       "    </tr>\n",
       "    <tr>\n",
       "      <th>accuracy</th>\n",
       "      <td>0.620811</td>\n",
       "      <td>0.620811</td>\n",
       "      <td>0.620811</td>\n",
       "      <td>0.620811</td>\n",
       "    </tr>\n",
       "    <tr>\n",
       "      <th>macro avg</th>\n",
       "      <td>0.562241</td>\n",
       "      <td>0.562798</td>\n",
       "      <td>0.562500</td>\n",
       "      <td>1134.000000</td>\n",
       "    </tr>\n",
       "    <tr>\n",
       "      <th>weighted avg</th>\n",
       "      <td>0.622534</td>\n",
       "      <td>0.620811</td>\n",
       "      <td>0.621656</td>\n",
       "      <td>1134.000000</td>\n",
       "    </tr>\n",
       "  </tbody>\n",
       "</table>\n",
       "</div>"
      ],
      "text/plain": [
       "              precision    recall  f1-score      support\n",
       "0              0.725032  0.719434  0.722222   777.000000\n",
       "1              0.399449  0.406162  0.402778   357.000000\n",
       "accuracy       0.620811  0.620811  0.620811     0.620811\n",
       "macro avg      0.562241  0.562798  0.562500  1134.000000\n",
       "weighted avg   0.622534  0.620811  0.621656  1134.000000"
      ]
     },
     "execution_count": 16,
     "metadata": {},
     "output_type": "execute_result"
    }
   ],
   "source": [
    "# Basic pipeline\n",
    "clf_pretrained = Pipeline(\n",
    "    [\n",
    "        (\"word2vec vectorizer\", MeanEmbeddingVectorizer(pretrained_w2v)),\n",
    "        (\n",
    "            \"extra trees\",\n",
    "            DecisionTreeClassifier(random_state=42, class_weight={0: 1, 1: 1.5}),\n",
    "        ),\n",
    "    ]\n",
    ")\n",
    "\n",
    "# Train\n",
    "clf_pretrained.fit(X_train, y_train)\n",
    "\n",
    "pd.DataFrame(\n",
    "    classification_report(y_test, clf_pretrained.predict(X_test), output_dict=True)\n",
    ").T\n",
    "\n"
   ]
  }
 ],
 "metadata": {
  "kernelspec": {
   "display_name": "Python 3.8.13 ('hate-seepch')",
   "language": "python",
   "name": "python3"
  },
  "language_info": {
   "codemirror_mode": {
    "name": "ipython",
    "version": 3
   },
   "file_extension": ".py",
   "mimetype": "text/x-python",
   "name": "python",
   "nbconvert_exporter": "python",
   "pygments_lexer": "ipython3",
   "version": "3.8.13"
  },
  "orig_nbformat": 4,
  "vscode": {
   "interpreter": {
    "hash": "7304d3c1a35396b9e299acc644b89f0e56d4154029b20ed6ab08effb23ac070c"
   }
  }
 },
 "nbformat": 4,
 "nbformat_minor": 2
}
