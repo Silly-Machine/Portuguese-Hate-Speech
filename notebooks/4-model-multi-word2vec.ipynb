{
 "cells": [
  {
   "cell_type": "markdown",
   "metadata": {},
   "source": [
    "## Requirements\n"
   ]
  },
  {
   "cell_type": "code",
   "execution_count": 1,
   "metadata": {},
   "outputs": [],
   "source": [
    "# Unable warnings\n",
    "import os\n",
    "import warnings\n",
    "\n",
    "warnings.filterwarnings(\"ignore\")\n",
    "os.environ['TF_CPP_MIN_LOG_LEVEL'] = '3'"
   ]
  },
  {
   "cell_type": "markdown",
   "metadata": {},
   "source": [
    "#### Directory adjustment\n"
   ]
  },
  {
   "cell_type": "code",
   "execution_count": 2,
   "metadata": {},
   "outputs": [],
   "source": [
    "from pathlib import Path\n",
    "import sys\n",
    "import os\n",
    "\n",
    "# Back to main folder\n",
    "path = os.path.dirname(os.getcwd()) + \"/\"\n",
    "os.chdir(path)\n",
    "sys.path.append(path)\n"
   ]
  },
  {
   "cell_type": "markdown",
   "metadata": {},
   "source": [
    "#### Data Processing\n"
   ]
  },
  {
   "cell_type": "code",
   "execution_count": 3,
   "metadata": {},
   "outputs": [],
   "source": [
    "# ETL\n",
    "import numpy as np\n",
    "import pandas as pd\n",
    "import multiprocessing\n",
    "\n",
    "# ML preprocessing\n",
    "from sklearn.preprocessing import label_binarize\n",
    "from sklearn.model_selection import train_test_split\n",
    "from sklearn.preprocessing import StandardScaler\n",
    "from sklearn.model_selection import KFold\n",
    "from sklearn.feature_selection import chi2\n"
   ]
  },
  {
   "cell_type": "markdown",
   "metadata": {},
   "source": [
    "#### Natural language processing\n"
   ]
  },
  {
   "cell_type": "code",
   "execution_count": 4,
   "metadata": {},
   "outputs": [],
   "source": [
    "# Basic\n",
    "import re\n",
    "\n",
    "# Tracking\n",
    "from src.experiment.tracking import experiment\n",
    "\n",
    "# Vectorization\n",
    "from sklearn.feature_extraction.text import CountVectorizer\n",
    "from sklearn.feature_extraction.text import TfidfVectorizer\n",
    "from src.transformers.text import TextNormalizer\n",
    "\n",
    "# Embedding\n",
    "from src.transformers.vectorizer import MeanEmbeddingVectorizer\n",
    "from gensim.models import KeyedVectors\n",
    "from gensim import models\n",
    "import gensim\n"
   ]
  },
  {
   "cell_type": "markdown",
   "metadata": {},
   "source": [
    "#### Models\n"
   ]
  },
  {
   "cell_type": "code",
   "execution_count": 5,
   "metadata": {},
   "outputs": [],
   "source": [
    "# Pipe\n",
    "from sklearn.pipeline import Pipeline\n",
    "\n",
    "# Models\n",
    "from sklearn.ensemble import RandomForestClassifier\n",
    "from sklearn.linear_model import LogisticRegression\n",
    "from sklearn.multiclass import OneVsRestClassifier\n",
    "from sklearn.tree import DecisionTreeClassifier\n",
    "from sklearn.linear_model import SGDClassifier\n",
    "from sklearn.naive_bayes import MultinomialNB\n",
    "from sklearn.naive_bayes import BernoulliNB\n",
    "from sklearn.svm import LinearSVC\n",
    "from sklearn import svm\n",
    "from sklearn.neighbors import KNeighborsClassifier\n",
    "from sklearn.ensemble import GradientBoostingClassifier\n",
    "from xgboost.sklearn import XGBClassifier\n",
    "\n",
    "# Metrics\n",
    "from sklearn.metrics import balanced_accuracy_score\n",
    "from sklearn.model_selection import cross_val_score\n",
    "from sklearn.metrics import classification_report\n",
    "from sklearn.metrics import precision_score\n",
    "from sklearn.metrics import accuracy_score\n",
    "from sklearn.metrics import recall_score\n",
    "from sklearn.metrics import roc_auc_score\n",
    "from sklearn.metrics import f1_score\n"
   ]
  },
  {
   "cell_type": "markdown",
   "metadata": {},
   "source": [
    "### DVC\n"
   ]
  },
  {
   "cell_type": "code",
   "execution_count": 6,
   "metadata": {},
   "outputs": [],
   "source": [
    "from src.data.control import version\n",
    "\n",
    "df_train, df_test = version().split(test_size=0.2)\n"
   ]
  },
  {
   "cell_type": "markdown",
   "metadata": {},
   "source": [
    "## Data manipulation\n"
   ]
  },
  {
   "cell_type": "code",
   "execution_count": 7,
   "metadata": {},
   "outputs": [],
   "source": [
    "# Set target and features\n",
    "target = \"label\"\n",
    "features = \"text\"\n",
    "\n",
    "# Set train and test\n",
    "X_train, y_train = df_train[features], df_train[target]\n",
    "X_test, y_test = df_test[features], df_test[target]\n",
    "\n",
    "\n",
    "# Set k-fold criteria\n",
    "k_fold = KFold(n_splits=10, shuffle=True, random_state=42)\n",
    "\n",
    "\n",
    "# Class weights\n",
    "pos = len(df_train.query(\"label==1\"))\n",
    "neg = len(df_train.query(\"label==0\"))\n",
    "weight_for_0 = (1 / neg) * (len(df_train) / 2.0)\n",
    "weight_for_1 = (1 / pos) * (len(df_train) / 2.0) \n",
    "relative_weight = {0: weight_for_0, 1: weight_for_1}\n"
   ]
  },
  {
   "cell_type": "markdown",
   "metadata": {},
   "source": [
    "## Model steps"
   ]
  },
  {
   "cell_type": "code",
   "execution_count": 8,
   "metadata": {},
   "outputs": [],
   "source": [
    "# Text normalizer\n",
    "wordlist = [\n",
    "    \"nomeusuario\",\n",
    "    \"paginaweb\",\n",
    "    \"emailusario\",\n",
    "    \"numerotelefone\",\n",
    "    \"simbolomonetario\",\n",
    "]\n",
    "\n",
    "normalizer = TextNormalizer(\n",
    "    stopwords=True, wordlist=wordlist, stemmer=False, lemma=False\n",
    ")\n",
    "\n",
    "\n",
    "# Classifiers\n",
    "classifiers = {\n",
    "    \"GradientBoosting\": GradientBoostingClassifier(),\n",
    "    \"KNeighbors\": KNeighborsClassifier(),\n",
    "    \"Bernoulli\": BernoulliNB(alpha=1.0, binarize=0.0, fit_prior=True, class_prior=None),\n",
    "    \"SVC\": LinearSVC(\n",
    "        penalty=\"l2\",\n",
    "        loss=\"squared_hinge\",\n",
    "        dual=True,\n",
    "        tol=1e-6,\n",
    "        C=1.1,\n",
    "        multi_class=\"crammer_singer\",\n",
    "        fit_intercept=True,\n",
    "        intercept_scaling=1,\n",
    "        class_weight=relative_weight,\n",
    "        random_state=42,\n",
    "        max_iter=1000,\n",
    "    ),\n",
    "    \"LogisticRegression\": LogisticRegression(penalty=\"l2\", max_iter=200, C=1),\n",
    "    \"SGDC\": SGDClassifier(loss=\"hinge\", max_iter=200),\n",
    "    \"DecisionTree\": DecisionTreeClassifier(\n",
    "        random_state=42,\n",
    "        class_weight=relative_weight,\n",
    "        min_samples_split=2,\n",
    "        max_features=\"auto\",\n",
    "    ),\n",
    "    \"RandomForest\": RandomForestClassifier(\n",
    "        random_state=42,\n",
    "        class_weight=relative_weight,\n",
    "        min_samples_split=2,\n",
    "        max_features=\"auto\",\n",
    "        oob_score=True,\n",
    "    ),\n",
    "    \"SVM\": svm.SVC(kernel=\"rbf\"),\n",
    "}\n"
   ]
  },
  {
   "cell_type": "markdown",
   "metadata": {},
   "source": [
    "## My own word2vec embedding model"
   ]
  },
  {
   "cell_type": "code",
   "execution_count": 9,
   "metadata": {},
   "outputs": [],
   "source": [
    "# Define a corpus\n",
    "corpus = X_train\n",
    "cores = multiprocessing.cpu_count()\n",
    "\n",
    "# Train a own word2vec model\n",
    "my_embedding_50d = gensim.models.Word2Vec(\n",
    "    corpus,\n",
    "    vector_size=50,\n",
    "    window=4,\n",
    "    min_count=10,\n",
    "    sg=1,\n",
    "    workers=cores - 1,\n",
    "    batch_words=10000,\n",
    "    alpha=0.1,\n",
    "    min_alpha=0.0001,\n",
    "    negative=20,\n",
    ")\n",
    "\n",
    "my_embedding_100d = gensim.models.Word2Vec(\n",
    "    corpus,\n",
    "    vector_size=50,\n",
    "    window=4,\n",
    "    min_count=10,\n",
    "    sg=1,\n",
    "    workers=cores - 1,\n",
    "    batch_words=10000,\n",
    "    alpha=0.1,\n",
    "    min_alpha=0.0001,\n",
    "    negative=20,\n",
    ")\n",
    "\n",
    "my_embedding_300d = gensim.models.Word2Vec(\n",
    "    corpus,\n",
    "    vector_size=300,\n",
    "    window=4,\n",
    "    min_count=10,\n",
    "    sg=1,\n",
    "    workers=cores - 1,\n",
    "    batch_words=10000,\n",
    "    alpha=0.1,\n",
    "    min_alpha=0.0001,\n",
    "    negative=20,\n",
    ")\n",
    "\n",
    "\n",
    "my_embedding_1000d = gensim.models.Word2Vec(\n",
    "    corpus,\n",
    "    vector_size=1000,\n",
    "    window=4,\n",
    "    min_count=10,\n",
    "    sg=1,\n",
    "    workers=cores - 1,\n",
    "    batch_words=10000,\n",
    "    alpha=0.1,\n",
    "    min_alpha=0.0001,\n",
    "    negative=20,\n",
    ")\n",
    "\n",
    "# Make embedding dictionary {token:vector}\n",
    "my_embedding_50d = dict(\n",
    "    zip(my_embedding_50d.wv.index_to_key, my_embedding_50d.wv.vectors)\n",
    ")\n",
    "\n",
    "my_embedding_100d = dict(\n",
    "    zip(my_embedding_100d.wv.index_to_key, my_embedding_100d.wv.vectors)\n",
    ")\n",
    "\n",
    "my_embedding_300d = dict(\n",
    "    zip(my_embedding_300d.wv.index_to_key, my_embedding_300d.wv.vectors)\n",
    ")\n",
    "\n",
    "my_embedding_1000d = dict(\n",
    "    zip(my_embedding_1000d.wv.index_to_key, my_embedding_1000d.wv.vectors)\n",
    ")\n",
    "\n",
    "\n",
    "# Make a vectorizer\n",
    "vec_50 = MeanEmbeddingVectorizer(my_embedding_50d)\n",
    "vec_100 = MeanEmbeddingVectorizer(my_embedding_100d)\n",
    "vec_300 = MeanEmbeddingVectorizer(my_embedding_300d)\n",
    "vec_1000 = MeanEmbeddingVectorizer(my_embedding_1000d)\n",
    "\n",
    "# List embeddings\n",
    "embeddings = {\n",
    "    \"w2v_50\": vec_50,\n",
    "    \"w2v_100\": vec_100,\n",
    "    \"w2v_300\": vec_300,\n",
    "    \"w2v_1000\": vec_1000,\n",
    "}\n"
   ]
  },
  {
   "cell_type": "markdown",
   "metadata": {},
   "source": [
    "### Basic pipeline"
   ]
  },
  {
   "cell_type": "code",
   "execution_count": 10,
   "metadata": {},
   "outputs": [
    {
     "data": {
      "text/html": [
       "<div>\n",
       "<style scoped>\n",
       "    .dataframe tbody tr th:only-of-type {\n",
       "        vertical-align: middle;\n",
       "    }\n",
       "\n",
       "    .dataframe tbody tr th {\n",
       "        vertical-align: top;\n",
       "    }\n",
       "\n",
       "    .dataframe thead th {\n",
       "        text-align: right;\n",
       "    }\n",
       "</style>\n",
       "<table border=\"1\" class=\"dataframe\">\n",
       "  <thead>\n",
       "    <tr style=\"text-align: right;\">\n",
       "      <th></th>\n",
       "      <th>0</th>\n",
       "      <th>1</th>\n",
       "      <th>accuracy</th>\n",
       "      <th>macro avg</th>\n",
       "      <th>weighted avg</th>\n",
       "    </tr>\n",
       "  </thead>\n",
       "  <tbody>\n",
       "    <tr>\n",
       "      <th>precision</th>\n",
       "      <td>0.767318</td>\n",
       "      <td>0.395797</td>\n",
       "      <td>0.580247</td>\n",
       "      <td>0.581557</td>\n",
       "      <td>0.650358</td>\n",
       "    </tr>\n",
       "    <tr>\n",
       "      <th>recall</th>\n",
       "      <td>0.555985</td>\n",
       "      <td>0.633053</td>\n",
       "      <td>0.580247</td>\n",
       "      <td>0.594519</td>\n",
       "      <td>0.580247</td>\n",
       "    </tr>\n",
       "    <tr>\n",
       "      <th>f1-score</th>\n",
       "      <td>0.644776</td>\n",
       "      <td>0.487069</td>\n",
       "      <td>0.580247</td>\n",
       "      <td>0.565923</td>\n",
       "      <td>0.595128</td>\n",
       "    </tr>\n",
       "    <tr>\n",
       "      <th>support</th>\n",
       "      <td>777.000000</td>\n",
       "      <td>357.000000</td>\n",
       "      <td>0.580247</td>\n",
       "      <td>1134.000000</td>\n",
       "      <td>1134.000000</td>\n",
       "    </tr>\n",
       "  </tbody>\n",
       "</table>\n",
       "</div>"
      ],
      "text/plain": [
       "                    0           1  accuracy    macro avg  weighted avg\n",
       "precision    0.767318    0.395797  0.580247     0.581557      0.650358\n",
       "recall       0.555985    0.633053  0.580247     0.594519      0.580247\n",
       "f1-score     0.644776    0.487069  0.580247     0.565923      0.595128\n",
       "support    777.000000  357.000000  0.580247  1134.000000   1134.000000"
      ]
     },
     "execution_count": 10,
     "metadata": {},
     "output_type": "execute_result"
    }
   ],
   "source": [
    "# Basic pipeline\n",
    "ml_pipe = Pipeline(\n",
    "    [\n",
    "        (\"normalizer\", normalizer),\n",
    "        (\"vectorizer\", vec_50),\n",
    "        (\"classifier\", classifiers[\"SVC\"]),\n",
    "    ]\n",
    ")\n",
    "\n",
    "# Train\n",
    "ml_pipe.fit(X_train, y_train)\n",
    "\n",
    "pd.DataFrame(classification_report(y_test, ml_pipe.predict(X_test), output_dict=True))\n"
   ]
  },
  {
   "cell_type": "markdown",
   "metadata": {},
   "source": [
    "### Multi model x Multi Embedding"
   ]
  },
  {
   "cell_type": "code",
   "execution_count": 11,
   "metadata": {},
   "outputs": [
    {
     "name": "stdout",
     "output_type": "stream",
     "text": [
      "[MLFLOW] [START] starting server\n"
     ]
    },
    {
     "name": "stderr",
     "output_type": "stream",
     "text": [
      "[2022-11-03 10:51:36 -0300] [46766] [INFO] Starting gunicorn 20.1.0\n",
      "[2022-11-03 10:51:36 -0300] [46766] [INFO] Listening at: http://127.0.0.1:7500 (46766)\n",
      "[2022-11-03 10:51:36 -0300] [46766] [INFO] Using worker: sync\n",
      "[2022-11-03 10:51:36 -0300] [46777] [INFO] Booting worker with pid: 46777\n",
      "[2022-11-03 10:51:36 -0300] [46778] [INFO] Booting worker with pid: 46778\n",
      "[2022-11-03 10:51:36 -0300] [46779] [INFO] Booting worker with pid: 46779\n",
      "[2022-11-03 10:51:36 -0300] [46780] [INFO] Booting worker with pid: 46780\n"
     ]
    },
    {
     "name": "stdout",
     "output_type": "stream",
     "text": [
      "[MLFLOW][EXECUTION] running experiment\n"
     ]
    },
    {
     "name": "stderr",
     "output_type": "stream",
     "text": [
      "2022/11/03 10:51:59 WARNING mlflow.utils.requirements_utils: The following packages were not found in the public PyPI package index as of 2022-09-16; if these packages are not present in the public PyPI index, you must install them manually before loading your model: {'minhasoma'}\n",
      "2022/11/03 10:52:04 WARNING mlflow.utils.requirements_utils: The following packages were not found in the public PyPI package index as of 2022-09-16; if these packages are not present in the public PyPI index, you must install them manually before loading your model: {'minhasoma'}\n"
     ]
    },
    {
     "name": "stdout",
     "output_type": "stream",
     "text": [
      "[MLFLOW] [FINISHED] experiment executed successfully\n",
      "model:GradientBoosting - w2v_50 - acc:0.6948853615520282 - rec:0.12605042016806722 - auc:0.5411461882050118 - f1:0.20642201834862386 \n",
      "\n",
      "[MLFLOW] [START] server already running\n",
      "[MLFLOW][EXECUTION] running experiment\n"
     ]
    },
    {
     "name": "stderr",
     "output_type": "stream",
     "text": [
      "2022/11/03 10:52:23 WARNING mlflow.utils.requirements_utils: The following packages were not found in the public PyPI package index as of 2022-09-16; if these packages are not present in the public PyPI index, you must install them manually before loading your model: {'minhasoma'}\n",
      "2022/11/03 10:52:27 WARNING mlflow.utils.requirements_utils: The following packages were not found in the public PyPI package index as of 2022-09-16; if these packages are not present in the public PyPI index, you must install them manually before loading your model: {'minhasoma'}\n"
     ]
    },
    {
     "name": "stdout",
     "output_type": "stream",
     "text": [
      "[MLFLOW] [FINISHED] experiment executed successfully\n",
      "model:GradientBoosting - w2v_100 - acc:0.699294532627866 - rec:0.13165266106442577 - auc:0.545877810583693 - f1:0.2160919540229885 \n",
      "\n",
      "[MLFLOW] [START] server already running\n",
      "[MLFLOW][EXECUTION] running experiment\n"
     ]
    },
    {
     "name": "stderr",
     "output_type": "stream",
     "text": [
      "2022/11/03 10:53:14 WARNING mlflow.utils.requirements_utils: The following packages were not found in the public PyPI package index as of 2022-09-16; if these packages are not present in the public PyPI index, you must install them manually before loading your model: {'minhasoma'}\n",
      "2022/11/03 10:53:18 WARNING mlflow.utils.requirements_utils: The following packages were not found in the public PyPI package index as of 2022-09-16; if these packages are not present in the public PyPI index, you must install them manually before loading your model: {'minhasoma'}\n"
     ]
    },
    {
     "name": "stdout",
     "output_type": "stream",
     "text": [
      "[MLFLOW] [FINISHED] experiment executed successfully\n",
      "model:GradientBoosting - w2v_300 - acc:0.6966490299823633 - rec:0.16246498599439776 - auc:0.55227496403967 - f1:0.2521739130434783 \n",
      "\n",
      "[MLFLOW] [START] server already running\n",
      "[MLFLOW][EXECUTION] running experiment\n"
     ]
    },
    {
     "name": "stderr",
     "output_type": "stream",
     "text": [
      "2022/11/03 10:55:16 WARNING mlflow.utils.requirements_utils: The following packages were not found in the public PyPI package index as of 2022-09-16; if these packages are not present in the public PyPI index, you must install them manually before loading your model: {'minhasoma'}\n",
      "2022/11/03 10:55:20 WARNING mlflow.utils.requirements_utils: The following packages were not found in the public PyPI package index as of 2022-09-16; if these packages are not present in the public PyPI index, you must install them manually before loading your model: {'minhasoma'}\n"
     ]
    },
    {
     "name": "stdout",
     "output_type": "stream",
     "text": [
      "[MLFLOW] [FINISHED] experiment executed successfully\n",
      "model:GradientBoosting - w2v_1000 - acc:0.6975308641975309 - rec:0.16806722689075632 - auc:0.5544325838443486 - f1:0.2591792656587473 \n",
      "\n",
      "[MLFLOW] [START] server already running\n",
      "[MLFLOW][EXECUTION] running experiment\n"
     ]
    },
    {
     "name": "stderr",
     "output_type": "stream",
     "text": [
      "2022/11/03 10:55:35 WARNING mlflow.utils.requirements_utils: The following packages were not found in the public PyPI package index as of 2022-09-16; if these packages are not present in the public PyPI index, you must install them manually before loading your model: {'minhasoma'}\n",
      "2022/11/03 10:55:40 WARNING mlflow.utils.requirements_utils: The following packages were not found in the public PyPI package index as of 2022-09-16; if these packages are not present in the public PyPI index, you must install them manually before loading your model: {'minhasoma'}\n"
     ]
    },
    {
     "name": "stdout",
     "output_type": "stream",
     "text": [
      "[MLFLOW] [FINISHED] experiment executed successfully\n",
      "model:KNeighbors - w2v_50 - acc:0.6604938271604939 - rec:0.3473389355742297 - auc:0.5758573699750171 - f1:0.39178515007898895 \n",
      "\n",
      "[MLFLOW] [START] server already running\n",
      "[MLFLOW][EXECUTION] running experiment\n"
     ]
    },
    {
     "name": "stderr",
     "output_type": "stream",
     "text": [
      "2022/11/03 10:55:55 WARNING mlflow.utils.requirements_utils: The following packages were not found in the public PyPI package index as of 2022-09-16; if these packages are not present in the public PyPI index, you must install them manually before loading your model: {'minhasoma'}\n",
      "2022/11/03 10:56:00 WARNING mlflow.utils.requirements_utils: The following packages were not found in the public PyPI package index as of 2022-09-16; if these packages are not present in the public PyPI index, you must install them manually before loading your model: {'minhasoma'}\n"
     ]
    },
    {
     "name": "stdout",
     "output_type": "stream",
     "text": [
      "[MLFLOW] [FINISHED] experiment executed successfully\n",
      "model:KNeighbors - w2v_100 - acc:0.644620811287478 - rec:0.31092436974789917 - auc:0.5544325838443486 - f1:0.35519999999999996 \n",
      "\n",
      "[MLFLOW] [START] server already running\n",
      "[MLFLOW][EXECUTION] running experiment\n"
     ]
    },
    {
     "name": "stderr",
     "output_type": "stream",
     "text": [
      "2022/11/03 10:56:16 WARNING mlflow.utils.requirements_utils: The following packages were not found in the public PyPI package index as of 2022-09-16; if these packages are not present in the public PyPI index, you must install them manually before loading your model: {'minhasoma'}\n",
      "2022/11/03 10:56:20 WARNING mlflow.utils.requirements_utils: The following packages were not found in the public PyPI package index as of 2022-09-16; if these packages are not present in the public PyPI index, you must install them manually before loading your model: {'minhasoma'}\n"
     ]
    },
    {
     "name": "stdout",
     "output_type": "stream",
     "text": [
      "[MLFLOW] [FINISHED] experiment executed successfully\n",
      "model:KNeighbors - w2v_300 - acc:0.6701940035273368 - rec:0.38095238095238093 - auc:0.592020592020592 - f1:0.42105263157894735 \n",
      "\n",
      "[MLFLOW] [START] server already running\n",
      "[MLFLOW][EXECUTION] running experiment\n"
     ]
    },
    {
     "name": "stderr",
     "output_type": "stream",
     "text": [
      "2022/11/03 10:56:37 WARNING mlflow.utils.requirements_utils: The following packages were not found in the public PyPI package index as of 2022-09-16; if these packages are not present in the public PyPI index, you must install them manually before loading your model: {'minhasoma'}\n",
      "2022/11/03 10:56:42 WARNING mlflow.utils.requirements_utils: The following packages were not found in the public PyPI package index as of 2022-09-16; if these packages are not present in the public PyPI index, you must install them manually before loading your model: {'minhasoma'}\n"
     ]
    },
    {
     "name": "stdout",
     "output_type": "stream",
     "text": [
      "[MLFLOW] [FINISHED] experiment executed successfully\n",
      "model:KNeighbors - w2v_1000 - acc:0.6507936507936508 - rec:0.3165266106442577 - auc:0.5604512075100311 - f1:0.36334405144694537 \n",
      "\n",
      "[MLFLOW] [START] server already running\n",
      "[MLFLOW][EXECUTION] running experiment\n"
     ]
    },
    {
     "name": "stderr",
     "output_type": "stream",
     "text": [
      "2022/11/03 10:56:56 WARNING mlflow.utils.requirements_utils: The following packages were not found in the public PyPI package index as of 2022-09-16; if these packages are not present in the public PyPI index, you must install them manually before loading your model: {'minhasoma'}\n",
      "2022/11/03 10:57:00 WARNING mlflow.utils.requirements_utils: The following packages were not found in the public PyPI package index as of 2022-09-16; if these packages are not present in the public PyPI index, you must install them manually before loading your model: {'minhasoma'}\n"
     ]
    },
    {
     "name": "stdout",
     "output_type": "stream",
     "text": [
      "[MLFLOW] [FINISHED] experiment executed successfully\n",
      "model:Bernoulli - w2v_50 - acc:0.6851851851851852 - rec:0.0 - auc:0.5 - f1:0.0 \n",
      "\n",
      "[MLFLOW] [START] server already running\n",
      "[MLFLOW][EXECUTION] running experiment\n"
     ]
    },
    {
     "name": "stderr",
     "output_type": "stream",
     "text": [
      "2022/11/03 10:57:14 WARNING mlflow.utils.requirements_utils: The following packages were not found in the public PyPI package index as of 2022-09-16; if these packages are not present in the public PyPI index, you must install them manually before loading your model: {'minhasoma'}\n",
      "2022/11/03 10:57:19 WARNING mlflow.utils.requirements_utils: The following packages were not found in the public PyPI package index as of 2022-09-16; if these packages are not present in the public PyPI index, you must install them manually before loading your model: {'minhasoma'}\n"
     ]
    },
    {
     "name": "stdout",
     "output_type": "stream",
     "text": [
      "[MLFLOW] [FINISHED] experiment executed successfully\n",
      "model:Bernoulli - w2v_100 - acc:0.6851851851851852 - rec:0.0 - auc:0.5 - f1:0.0 \n",
      "\n",
      "[MLFLOW] [START] server already running\n",
      "[MLFLOW][EXECUTION] running experiment\n"
     ]
    },
    {
     "name": "stderr",
     "output_type": "stream",
     "text": [
      "2022/11/03 10:57:33 WARNING mlflow.utils.requirements_utils: The following packages were not found in the public PyPI package index as of 2022-09-16; if these packages are not present in the public PyPI index, you must install them manually before loading your model: {'minhasoma'}\n",
      "2022/11/03 10:57:37 WARNING mlflow.utils.requirements_utils: The following packages were not found in the public PyPI package index as of 2022-09-16; if these packages are not present in the public PyPI index, you must install them manually before loading your model: {'minhasoma'}\n"
     ]
    },
    {
     "name": "stdout",
     "output_type": "stream",
     "text": [
      "[MLFLOW] [FINISHED] experiment executed successfully\n",
      "model:Bernoulli - w2v_300 - acc:0.671957671957672 - rec:0.24369747899159663 - auc:0.5562116738587327 - f1:0.31868131868131866 \n",
      "\n",
      "[MLFLOW] [START] server already running\n",
      "[MLFLOW][EXECUTION] running experiment\n"
     ]
    },
    {
     "name": "stderr",
     "output_type": "stream",
     "text": [
      "2022/11/03 10:57:52 WARNING mlflow.utils.requirements_utils: The following packages were not found in the public PyPI package index as of 2022-09-16; if these packages are not present in the public PyPI index, you must install them manually before loading your model: {'minhasoma'}\n",
      "2022/11/03 10:57:56 WARNING mlflow.utils.requirements_utils: The following packages were not found in the public PyPI package index as of 2022-09-16; if these packages are not present in the public PyPI index, you must install them manually before loading your model: {'minhasoma'}\n"
     ]
    },
    {
     "name": "stdout",
     "output_type": "stream",
     "text": [
      "[MLFLOW] [FINISHED] experiment executed successfully\n",
      "model:Bernoulli - w2v_1000 - acc:0.562610229276896 - rec:0.6526610644257703 - auc:0.5869482928306458 - f1:0.48440748440748443 \n",
      "\n",
      "[MLFLOW] [START] server already running\n",
      "[MLFLOW][EXECUTION] running experiment\n"
     ]
    },
    {
     "name": "stderr",
     "output_type": "stream",
     "text": [
      "2022/11/03 10:58:09 WARNING mlflow.utils.requirements_utils: The following packages were not found in the public PyPI package index as of 2022-09-16; if these packages are not present in the public PyPI index, you must install them manually before loading your model: {'minhasoma'}\n",
      "2022/11/03 10:58:13 WARNING mlflow.utils.requirements_utils: The following packages were not found in the public PyPI package index as of 2022-09-16; if these packages are not present in the public PyPI index, you must install them manually before loading your model: {'minhasoma'}\n"
     ]
    },
    {
     "name": "stdout",
     "output_type": "stream",
     "text": [
      "[MLFLOW] [FINISHED] experiment executed successfully\n",
      "model:SVC - w2v_50 - acc:0.5802469135802469 - rec:0.6330532212885154 - auc:0.5945188886365357 - f1:0.4870689655172414 \n",
      "\n",
      "[MLFLOW] [START] server already running\n",
      "[MLFLOW][EXECUTION] running experiment\n"
     ]
    },
    {
     "name": "stderr",
     "output_type": "stream",
     "text": [
      "2022/11/03 10:58:27 WARNING mlflow.utils.requirements_utils: The following packages were not found in the public PyPI package index as of 2022-09-16; if these packages are not present in the public PyPI index, you must install them manually before loading your model: {'minhasoma'}\n",
      "2022/11/03 10:58:31 WARNING mlflow.utils.requirements_utils: The following packages were not found in the public PyPI package index as of 2022-09-16; if these packages are not present in the public PyPI index, you must install them manually before loading your model: {'minhasoma'}\n"
     ]
    },
    {
     "name": "stdout",
     "output_type": "stream",
     "text": [
      "[MLFLOW] [FINISHED] experiment executed successfully\n",
      "model:SVC - w2v_100 - acc:0.5828924162257496 - rec:0.6358543417366946 - auc:0.5972064501476266 - f1:0.4897518878101402 \n",
      "\n",
      "[MLFLOW] [START] server already running\n",
      "[MLFLOW][EXECUTION] running experiment\n"
     ]
    },
    {
     "name": "stderr",
     "output_type": "stream",
     "text": [
      "2022/11/03 10:58:45 WARNING mlflow.utils.requirements_utils: The following packages were not found in the public PyPI package index as of 2022-09-16; if these packages are not present in the public PyPI index, you must install them manually before loading your model: {'minhasoma'}\n",
      "2022/11/03 10:58:50 WARNING mlflow.utils.requirements_utils: The following packages were not found in the public PyPI package index as of 2022-09-16; if these packages are not present in the public PyPI index, you must install them manually before loading your model: {'minhasoma'}\n"
     ]
    },
    {
     "name": "stdout",
     "output_type": "stream",
     "text": [
      "[MLFLOW] [FINISHED] experiment executed successfully\n",
      "model:SVC - w2v_300 - acc:0.58994708994709 - rec:0.6526610644257703 - auc:0.6068968127791657 - f1:0.5005370569280344 \n",
      "\n",
      "[MLFLOW] [START] server already running\n",
      "[MLFLOW][EXECUTION] running experiment\n"
     ]
    },
    {
     "name": "stderr",
     "output_type": "stream",
     "text": [
      "2022/11/03 10:59:04 WARNING mlflow.utils.requirements_utils: The following packages were not found in the public PyPI package index as of 2022-09-16; if these packages are not present in the public PyPI index, you must install them manually before loading your model: {'minhasoma'}\n",
      "2022/11/03 10:59:09 WARNING mlflow.utils.requirements_utils: The following packages were not found in the public PyPI package index as of 2022-09-16; if these packages are not present in the public PyPI index, you must install them manually before loading your model: {'minhasoma'}\n"
     ]
    },
    {
     "name": "stdout",
     "output_type": "stream",
     "text": [
      "[MLFLOW] [FINISHED] experiment executed successfully\n",
      "model:SVC - w2v_1000 - acc:0.5961199294532628 - rec:0.6470588235294118 - auc:0.6098871981224923 - f1:0.5021739130434781 \n",
      "\n",
      "[MLFLOW] [START] server already running\n",
      "[MLFLOW][EXECUTION] running experiment\n"
     ]
    },
    {
     "name": "stderr",
     "output_type": "stream",
     "text": [
      "2022/11/03 10:59:23 WARNING mlflow.utils.requirements_utils: The following packages were not found in the public PyPI package index as of 2022-09-16; if these packages are not present in the public PyPI index, you must install them manually before loading your model: {'minhasoma'}\n",
      "2022/11/03 10:59:28 WARNING mlflow.utils.requirements_utils: The following packages were not found in the public PyPI package index as of 2022-09-16; if these packages are not present in the public PyPI index, you must install them manually before loading your model: {'minhasoma'}\n"
     ]
    },
    {
     "name": "stdout",
     "output_type": "stream",
     "text": [
      "[MLFLOW] [FINISHED] experiment executed successfully\n",
      "model:LogisticRegression - w2v_50 - acc:0.6843033509700176 - rec:0.0 - auc:0.49935649935649934 - f1:0.0 \n",
      "\n",
      "[MLFLOW] [START] server already running\n",
      "[MLFLOW][EXECUTION] running experiment\n"
     ]
    },
    {
     "name": "stderr",
     "output_type": "stream",
     "text": [
      "2022/11/03 10:59:43 WARNING mlflow.utils.requirements_utils: The following packages were not found in the public PyPI package index as of 2022-09-16; if these packages are not present in the public PyPI index, you must install them manually before loading your model: {'minhasoma'}\n",
      "2022/11/03 10:59:47 WARNING mlflow.utils.requirements_utils: The following packages were not found in the public PyPI package index as of 2022-09-16; if these packages are not present in the public PyPI index, you must install them manually before loading your model: {'minhasoma'}\n"
     ]
    },
    {
     "name": "stdout",
     "output_type": "stream",
     "text": [
      "[MLFLOW] [FINISHED] experiment executed successfully\n",
      "model:LogisticRegression - w2v_100 - acc:0.6843033509700176 - rec:0.0 - auc:0.49935649935649934 - f1:0.0 \n",
      "\n",
      "[MLFLOW] [START] server already running\n",
      "[MLFLOW][EXECUTION] running experiment\n"
     ]
    },
    {
     "name": "stderr",
     "output_type": "stream",
     "text": [
      "2022/11/03 11:00:02 WARNING mlflow.utils.requirements_utils: The following packages were not found in the public PyPI package index as of 2022-09-16; if these packages are not present in the public PyPI index, you must install them manually before loading your model: {'minhasoma'}\n",
      "2022/11/03 11:00:06 WARNING mlflow.utils.requirements_utils: The following packages were not found in the public PyPI package index as of 2022-09-16; if these packages are not present in the public PyPI index, you must install them manually before loading your model: {'minhasoma'}\n"
     ]
    },
    {
     "name": "stdout",
     "output_type": "stream",
     "text": [
      "[MLFLOW] [FINISHED] experiment executed successfully\n",
      "model:LogisticRegression - w2v_300 - acc:0.6843033509700176 - rec:0.0 - auc:0.49935649935649934 - f1:0.0 \n",
      "\n",
      "[MLFLOW] [START] server already running\n",
      "[MLFLOW][EXECUTION] running experiment\n"
     ]
    },
    {
     "name": "stderr",
     "output_type": "stream",
     "text": [
      "2022/11/03 11:00:21 WARNING mlflow.utils.requirements_utils: The following packages were not found in the public PyPI package index as of 2022-09-16; if these packages are not present in the public PyPI index, you must install them manually before loading your model: {'minhasoma'}\n",
      "2022/11/03 11:00:26 WARNING mlflow.utils.requirements_utils: The following packages were not found in the public PyPI package index as of 2022-09-16; if these packages are not present in the public PyPI index, you must install them manually before loading your model: {'minhasoma'}\n"
     ]
    },
    {
     "name": "stdout",
     "output_type": "stream",
     "text": [
      "[MLFLOW] [FINISHED] experiment executed successfully\n",
      "model:LogisticRegression - w2v_1000 - acc:0.6851851851851852 - rec:0.0 - auc:0.5 - f1:0.0 \n",
      "\n",
      "[MLFLOW] [START] server already running\n",
      "[MLFLOW][EXECUTION] running experiment\n"
     ]
    },
    {
     "name": "stderr",
     "output_type": "stream",
     "text": [
      "2022/11/03 11:00:39 WARNING mlflow.utils.requirements_utils: The following packages were not found in the public PyPI package index as of 2022-09-16; if these packages are not present in the public PyPI index, you must install them manually before loading your model: {'minhasoma'}\n",
      "2022/11/03 11:00:43 WARNING mlflow.utils.requirements_utils: The following packages were not found in the public PyPI package index as of 2022-09-16; if these packages are not present in the public PyPI index, you must install them manually before loading your model: {'minhasoma'}\n"
     ]
    },
    {
     "name": "stdout",
     "output_type": "stream",
     "text": [
      "[MLFLOW] [FINISHED] experiment executed successfully\n",
      "model:SGDC - w2v_50 - acc:0.6851851851851852 - rec:0.0 - auc:0.5 - f1:0.0 \n",
      "\n",
      "[MLFLOW] [START] server already running\n",
      "[MLFLOW][EXECUTION] running experiment\n"
     ]
    },
    {
     "name": "stderr",
     "output_type": "stream",
     "text": [
      "2022/11/03 11:00:56 WARNING mlflow.utils.requirements_utils: The following packages were not found in the public PyPI package index as of 2022-09-16; if these packages are not present in the public PyPI index, you must install them manually before loading your model: {'minhasoma'}\n",
      "2022/11/03 11:01:01 WARNING mlflow.utils.requirements_utils: The following packages were not found in the public PyPI package index as of 2022-09-16; if these packages are not present in the public PyPI index, you must install them manually before loading your model: {'minhasoma'}\n"
     ]
    },
    {
     "name": "stdout",
     "output_type": "stream",
     "text": [
      "[MLFLOW] [FINISHED] experiment executed successfully\n",
      "model:SGDC - w2v_100 - acc:0.6851851851851852 - rec:0.0 - auc:0.5 - f1:0.0 \n",
      "\n",
      "[MLFLOW] [START] server already running\n",
      "[MLFLOW][EXECUTION] running experiment\n"
     ]
    },
    {
     "name": "stderr",
     "output_type": "stream",
     "text": [
      "2022/11/03 11:01:15 WARNING mlflow.utils.requirements_utils: The following packages were not found in the public PyPI package index as of 2022-09-16; if these packages are not present in the public PyPI index, you must install them manually before loading your model: {'minhasoma'}\n",
      "2022/11/03 11:01:20 WARNING mlflow.utils.requirements_utils: The following packages were not found in the public PyPI package index as of 2022-09-16; if these packages are not present in the public PyPI index, you must install them manually before loading your model: {'minhasoma'}\n"
     ]
    },
    {
     "name": "stdout",
     "output_type": "stream",
     "text": [
      "[MLFLOW] [FINISHED] experiment executed successfully\n",
      "model:SGDC - w2v_300 - acc:0.6851851851851852 - rec:0.0 - auc:0.5 - f1:0.0 \n",
      "\n",
      "[MLFLOW] [START] server already running\n",
      "[MLFLOW][EXECUTION] running experiment\n"
     ]
    },
    {
     "name": "stderr",
     "output_type": "stream",
     "text": [
      "2022/11/03 11:01:34 WARNING mlflow.utils.requirements_utils: The following packages were not found in the public PyPI package index as of 2022-09-16; if these packages are not present in the public PyPI index, you must install them manually before loading your model: {'minhasoma'}\n",
      "2022/11/03 11:01:38 WARNING mlflow.utils.requirements_utils: The following packages were not found in the public PyPI package index as of 2022-09-16; if these packages are not present in the public PyPI index, you must install them manually before loading your model: {'minhasoma'}\n"
     ]
    },
    {
     "name": "stdout",
     "output_type": "stream",
     "text": [
      "[MLFLOW] [FINISHED] experiment executed successfully\n",
      "model:SGDC - w2v_1000 - acc:0.6851851851851852 - rec:0.0 - auc:0.5 - f1:0.0 \n",
      "\n",
      "[MLFLOW] [START] server already running\n",
      "[MLFLOW][EXECUTION] running experiment\n"
     ]
    },
    {
     "name": "stderr",
     "output_type": "stream",
     "text": [
      "2022/11/03 11:01:52 WARNING mlflow.utils.requirements_utils: The following packages were not found in the public PyPI package index as of 2022-09-16; if these packages are not present in the public PyPI index, you must install them manually before loading your model: {'minhasoma'}\n",
      "2022/11/03 11:01:57 WARNING mlflow.utils.requirements_utils: The following packages were not found in the public PyPI package index as of 2022-09-16; if these packages are not present in the public PyPI index, you must install them manually before loading your model: {'minhasoma'}\n"
     ]
    },
    {
     "name": "stdout",
     "output_type": "stream",
     "text": [
      "[MLFLOW] [FINISHED] experiment executed successfully\n",
      "model:DecisionTree - w2v_50 - acc:0.6031746031746031 - rec:0.3585434173669468 - auc:0.5370580664698312 - f1:0.3626062322946175 \n",
      "\n",
      "[MLFLOW] [START] server already running\n",
      "[MLFLOW][EXECUTION] running experiment\n"
     ]
    },
    {
     "name": "stderr",
     "output_type": "stream",
     "text": [
      "2022/11/03 11:02:12 WARNING mlflow.utils.requirements_utils: The following packages were not found in the public PyPI package index as of 2022-09-16; if these packages are not present in the public PyPI index, you must install them manually before loading your model: {'minhasoma'}\n",
      "2022/11/03 11:02:17 WARNING mlflow.utils.requirements_utils: The following packages were not found in the public PyPI package index as of 2022-09-16; if these packages are not present in the public PyPI index, you must install them manually before loading your model: {'minhasoma'}\n"
     ]
    },
    {
     "name": "stdout",
     "output_type": "stream",
     "text": [
      "[MLFLOW] [FINISHED] experiment executed successfully\n",
      "model:DecisionTree - w2v_100 - acc:0.6084656084656085 - rec:0.37815126050420167 - auc:0.5462184873949579 - f1:0.37815126050420167 \n",
      "\n",
      "[MLFLOW] [START] server already running\n",
      "[MLFLOW][EXECUTION] running experiment\n"
     ]
    },
    {
     "name": "stderr",
     "output_type": "stream",
     "text": [
      "2022/11/03 11:02:32 WARNING mlflow.utils.requirements_utils: The following packages were not found in the public PyPI package index as of 2022-09-16; if these packages are not present in the public PyPI index, you must install them manually before loading your model: {'minhasoma'}\n",
      "2022/11/03 11:02:37 WARNING mlflow.utils.requirements_utils: The following packages were not found in the public PyPI package index as of 2022-09-16; if these packages are not present in the public PyPI index, you must install them manually before loading your model: {'minhasoma'}\n"
     ]
    },
    {
     "name": "stdout",
     "output_type": "stream",
     "text": [
      "[MLFLOW] [FINISHED] experiment executed successfully\n",
      "model:DecisionTree - w2v_300 - acc:0.6137566137566137 - rec:0.36134453781512604 - auc:0.545537133772428 - f1:0.3706896551724138 \n",
      "\n",
      "[MLFLOW] [START] server already running\n",
      "[MLFLOW][EXECUTION] running experiment\n"
     ]
    },
    {
     "name": "stderr",
     "output_type": "stream",
     "text": [
      "2022/11/03 11:02:52 WARNING mlflow.utils.requirements_utils: The following packages were not found in the public PyPI package index as of 2022-09-16; if these packages are not present in the public PyPI index, you must install them manually before loading your model: {'minhasoma'}\n",
      "2022/11/03 11:02:56 WARNING mlflow.utils.requirements_utils: The following packages were not found in the public PyPI package index as of 2022-09-16; if these packages are not present in the public PyPI index, you must install them manually before loading your model: {'minhasoma'}\n"
     ]
    },
    {
     "name": "stdout",
     "output_type": "stream",
     "text": [
      "[MLFLOW] [FINISHED] experiment executed successfully\n",
      "model:DecisionTree - w2v_1000 - acc:0.5970017636684304 - rec:0.3473389355742297 - auc:0.5295253236429708 - f1:0.3517730496453901 \n",
      "\n",
      "[MLFLOW] [START] server already running\n",
      "[MLFLOW][EXECUTION] running experiment\n"
     ]
    },
    {
     "name": "stderr",
     "output_type": "stream",
     "text": [
      "2022/11/03 11:03:14 WARNING mlflow.utils.requirements_utils: The following packages were not found in the public PyPI package index as of 2022-09-16; if these packages are not present in the public PyPI index, you must install them manually before loading your model: {'minhasoma'}\n",
      "2022/11/03 11:03:19 WARNING mlflow.utils.requirements_utils: The following packages were not found in the public PyPI package index as of 2022-09-16; if these packages are not present in the public PyPI index, you must install them manually before loading your model: {'minhasoma'}\n"
     ]
    },
    {
     "name": "stdout",
     "output_type": "stream",
     "text": [
      "[MLFLOW] [FINISHED] experiment executed successfully\n",
      "model:RandomForest - w2v_50 - acc:0.6887125220458554 - rec:0.10644257703081232 - auc:0.5313422666363843 - f1:0.17715617715617715 \n",
      "\n",
      "[MLFLOW] [START] server already running\n",
      "[MLFLOW][EXECUTION] running experiment\n"
     ]
    },
    {
     "name": "stderr",
     "output_type": "stream",
     "text": [
      "2022/11/03 11:03:37 WARNING mlflow.utils.requirements_utils: The following packages were not found in the public PyPI package index as of 2022-09-16; if these packages are not present in the public PyPI index, you must install them manually before loading your model: {'minhasoma'}\n",
      "2022/11/03 11:03:41 WARNING mlflow.utils.requirements_utils: The following packages were not found in the public PyPI package index as of 2022-09-16; if these packages are not present in the public PyPI index, you must install them manually before loading your model: {'minhasoma'}\n"
     ]
    },
    {
     "name": "stdout",
     "output_type": "stream",
     "text": [
      "[MLFLOW] [FINISHED] experiment executed successfully\n",
      "model:RandomForest - w2v_100 - acc:0.7037037037037037 - rec:0.12044817927170869 - auc:0.5460670754788403 - f1:0.2037914691943128 \n",
      "\n",
      "[MLFLOW] [START] server already running\n",
      "[MLFLOW][EXECUTION] running experiment\n"
     ]
    },
    {
     "name": "stderr",
     "output_type": "stream",
     "text": [
      "2022/11/03 11:04:01 WARNING mlflow.utils.requirements_utils: The following packages were not found in the public PyPI package index as of 2022-09-16; if these packages are not present in the public PyPI index, you must install them manually before loading your model: {'minhasoma'}\n",
      "2022/11/03 11:04:06 WARNING mlflow.utils.requirements_utils: The following packages were not found in the public PyPI package index as of 2022-09-16; if these packages are not present in the public PyPI index, you must install them manually before loading your model: {'minhasoma'}\n"
     ]
    },
    {
     "name": "stdout",
     "output_type": "stream",
     "text": [
      "[MLFLOW] [FINISHED] experiment executed successfully\n",
      "model:RandomForest - w2v_300 - acc:0.6966490299823633 - rec:0.11484593837535013 - auc:0.5394049511696571 - f1:0.19248826291079812 \n",
      "\n",
      "[MLFLOW] [START] server already running\n",
      "[MLFLOW][EXECUTION] running experiment\n"
     ]
    },
    {
     "name": "stderr",
     "output_type": "stream",
     "text": [
      "2022/11/03 11:04:30 WARNING mlflow.utils.requirements_utils: The following packages were not found in the public PyPI package index as of 2022-09-16; if these packages are not present in the public PyPI index, you must install them manually before loading your model: {'minhasoma'}\n",
      "2022/11/03 11:04:35 WARNING mlflow.utils.requirements_utils: The following packages were not found in the public PyPI package index as of 2022-09-16; if these packages are not present in the public PyPI index, you must install them manually before loading your model: {'minhasoma'}\n"
     ]
    },
    {
     "name": "stdout",
     "output_type": "stream",
     "text": [
      "[MLFLOW] [FINISHED] experiment executed successfully\n",
      "model:RandomForest - w2v_1000 - acc:0.6948853615520282 - rec:0.11764705882352941 - auc:0.5388750094632448 - f1:0.1953488372093023 \n",
      "\n",
      "[MLFLOW] [START] server already running\n",
      "[MLFLOW][EXECUTION] running experiment\n"
     ]
    },
    {
     "name": "stderr",
     "output_type": "stream",
     "text": [
      "2022/11/03 11:04:52 WARNING mlflow.utils.requirements_utils: The following packages were not found in the public PyPI package index as of 2022-09-16; if these packages are not present in the public PyPI index, you must install them manually before loading your model: {'minhasoma'}\n",
      "2022/11/03 11:04:57 WARNING mlflow.utils.requirements_utils: The following packages were not found in the public PyPI package index as of 2022-09-16; if these packages are not present in the public PyPI index, you must install them manually before loading your model: {'minhasoma'}\n"
     ]
    },
    {
     "name": "stdout",
     "output_type": "stream",
     "text": [
      "[MLFLOW] [FINISHED] experiment executed successfully\n",
      "model:SVM - w2v_50 - acc:0.6851851851851852 - rec:0.0 - auc:0.5 - f1:0.0 \n",
      "\n",
      "[MLFLOW] [START] server already running\n",
      "[MLFLOW][EXECUTION] running experiment\n"
     ]
    },
    {
     "name": "stderr",
     "output_type": "stream",
     "text": [
      "2022/11/03 11:05:14 WARNING mlflow.utils.requirements_utils: The following packages were not found in the public PyPI package index as of 2022-09-16; if these packages are not present in the public PyPI index, you must install them manually before loading your model: {'minhasoma'}\n",
      "2022/11/03 11:05:19 WARNING mlflow.utils.requirements_utils: The following packages were not found in the public PyPI package index as of 2022-09-16; if these packages are not present in the public PyPI index, you must install them manually before loading your model: {'minhasoma'}\n"
     ]
    },
    {
     "name": "stdout",
     "output_type": "stream",
     "text": [
      "[MLFLOW] [FINISHED] experiment executed successfully\n",
      "model:SVM - w2v_100 - acc:0.6851851851851852 - rec:0.0 - auc:0.5 - f1:0.0 \n",
      "\n",
      "[MLFLOW] [START] server already running\n",
      "[MLFLOW][EXECUTION] running experiment\n"
     ]
    },
    {
     "name": "stderr",
     "output_type": "stream",
     "text": [
      "2022/11/03 11:05:51 WARNING mlflow.utils.requirements_utils: The following packages were not found in the public PyPI package index as of 2022-09-16; if these packages are not present in the public PyPI index, you must install them manually before loading your model: {'minhasoma'}\n",
      "2022/11/03 11:05:56 WARNING mlflow.utils.requirements_utils: The following packages were not found in the public PyPI package index as of 2022-09-16; if these packages are not present in the public PyPI index, you must install them manually before loading your model: {'minhasoma'}\n"
     ]
    },
    {
     "name": "stdout",
     "output_type": "stream",
     "text": [
      "[MLFLOW] [FINISHED] experiment executed successfully\n",
      "model:SVM - w2v_300 - acc:0.6851851851851852 - rec:0.0 - auc:0.5 - f1:0.0 \n",
      "\n",
      "[MLFLOW] [START] server already running\n",
      "[MLFLOW][EXECUTION] running experiment\n"
     ]
    },
    {
     "name": "stderr",
     "output_type": "stream",
     "text": [
      "2022/11/03 11:07:00 WARNING mlflow.utils.requirements_utils: The following packages were not found in the public PyPI package index as of 2022-09-16; if these packages are not present in the public PyPI index, you must install them manually before loading your model: {'minhasoma'}\n",
      "2022/11/03 11:07:07 WARNING mlflow.utils.requirements_utils: The following packages were not found in the public PyPI package index as of 2022-09-16; if these packages are not present in the public PyPI index, you must install them manually before loading your model: {'minhasoma'}\n"
     ]
    },
    {
     "name": "stdout",
     "output_type": "stream",
     "text": [
      "[MLFLOW] [FINISHED] experiment executed successfully\n",
      "model:SVM - w2v_1000 - acc:0.6851851851851852 - rec:0.0 - auc:0.5 - f1:0.0 \n",
      "\n"
     ]
    }
   ],
   "source": [
    "for model_name, classifier in classifiers.items():\n",
    "    for embedding_name, embedding in embeddings.items():\n",
    "\n",
    "        # Build a classifier pipeline\n",
    "        ml_pipe = Pipeline(\n",
    "            [\n",
    "                (\"normalizer\", normalizer),\n",
    "                (\"vectorizer\", embedding),\n",
    "                (\"classifier\", classifier),\n",
    "            ]\n",
    "        )\n",
    "\n",
    "        # Set experiment\n",
    "        lab = experiment(\n",
    "            exp_name=\"Hate Speech\",\n",
    "            model_name=f\"{model_name} - {embedding_name}\",\n",
    "            model=ml_pipe,\n",
    "        )\n",
    "\n",
    "        # Evaluate experiment\n",
    "        y_pred = lab.run(X_train, y_train, X_test, y_test)\n"
   ]
  },
  {
   "cell_type": "markdown",
   "metadata": {},
   "source": [
    "## Pre-trained embeddings\n"
   ]
  },
  {
   "cell_type": "code",
   "execution_count": 14,
   "metadata": {},
   "outputs": [],
   "source": [
    "# Load a pre-trained model\n",
    "pretrained_model = models.KeyedVectors.load_word2vec_format(\n",
    "    \"data/pretrained-skipgram/skip_s50.txt\", binary=False\n",
    ")\n",
    "\n",
    "# Make embedding dictionary {token:vector}\n",
    "pre_embedding_50d = dict(zip(pretrained_model.index_to_key, pretrained_model.vectors))\n",
    "\n",
    "# Make a vectorizer\n",
    "pre_vec_50 = MeanEmbeddingVectorizer(pre_embedding_50d)\n"
   ]
  },
  {
   "cell_type": "markdown",
   "metadata": {},
   "source": [
    "### Basic pipeline"
   ]
  },
  {
   "cell_type": "code",
   "execution_count": 15,
   "metadata": {},
   "outputs": [
    {
     "name": "stderr",
     "output_type": "stream",
     "text": [
      "2022/11/03 11:08:35 INFO mlflow.utils.autologging_utils: Created MLflow autologging run with ID 'e76583d22cc1406698bae430bd6e0c7a', which will track hyperparameters, performance metrics, model artifacts, and lineage information for the current sklearn workflow\n",
      "2022/11/03 11:08:55 WARNING mlflow.utils.requirements_utils: The following packages were not found in the public PyPI package index as of 2022-09-16; if these packages are not present in the public PyPI index, you must install them manually before loading your model: {'minhasoma'}\n"
     ]
    },
    {
     "data": {
      "text/html": [
       "<div>\n",
       "<style scoped>\n",
       "    .dataframe tbody tr th:only-of-type {\n",
       "        vertical-align: middle;\n",
       "    }\n",
       "\n",
       "    .dataframe tbody tr th {\n",
       "        vertical-align: top;\n",
       "    }\n",
       "\n",
       "    .dataframe thead th {\n",
       "        text-align: right;\n",
       "    }\n",
       "</style>\n",
       "<table border=\"1\" class=\"dataframe\">\n",
       "  <thead>\n",
       "    <tr style=\"text-align: right;\">\n",
       "      <th></th>\n",
       "      <th>0</th>\n",
       "      <th>1</th>\n",
       "      <th>accuracy</th>\n",
       "      <th>macro avg</th>\n",
       "      <th>weighted avg</th>\n",
       "    </tr>\n",
       "  </thead>\n",
       "  <tbody>\n",
       "    <tr>\n",
       "      <th>precision</th>\n",
       "      <td>0.760902</td>\n",
       "      <td>0.422175</td>\n",
       "      <td>0.620811</td>\n",
       "      <td>0.591539</td>\n",
       "      <td>0.654266</td>\n",
       "    </tr>\n",
       "    <tr>\n",
       "      <th>recall</th>\n",
       "      <td>0.651223</td>\n",
       "      <td>0.554622</td>\n",
       "      <td>0.620811</td>\n",
       "      <td>0.602922</td>\n",
       "      <td>0.620811</td>\n",
       "    </tr>\n",
       "    <tr>\n",
       "      <th>f1-score</th>\n",
       "      <td>0.701803</td>\n",
       "      <td>0.479419</td>\n",
       "      <td>0.620811</td>\n",
       "      <td>0.590611</td>\n",
       "      <td>0.631793</td>\n",
       "    </tr>\n",
       "    <tr>\n",
       "      <th>support</th>\n",
       "      <td>777.000000</td>\n",
       "      <td>357.000000</td>\n",
       "      <td>0.620811</td>\n",
       "      <td>1134.000000</td>\n",
       "      <td>1134.000000</td>\n",
       "    </tr>\n",
       "  </tbody>\n",
       "</table>\n",
       "</div>"
      ],
      "text/plain": [
       "                    0           1  accuracy    macro avg  weighted avg\n",
       "precision    0.760902    0.422175  0.620811     0.591539      0.654266\n",
       "recall       0.651223    0.554622  0.620811     0.602922      0.620811\n",
       "f1-score     0.701803    0.479419  0.620811     0.590611      0.631793\n",
       "support    777.000000  357.000000  0.620811  1134.000000   1134.000000"
      ]
     },
     "execution_count": 15,
     "metadata": {},
     "output_type": "execute_result"
    }
   ],
   "source": [
    "# Basic pipeline\n",
    "ml_pipe = Pipeline(\n",
    "    [\n",
    "        (\"normalizer\", normalizer),\n",
    "        (\"vectorizer\", pre_vec_50),\n",
    "        (\"classifier\", classifiers[\"SVC\"]),\n",
    "    ]\n",
    ")\n",
    "\n",
    "# Train\n",
    "ml_pipe.fit(X_train, y_train)\n",
    "\n",
    "pd.DataFrame(classification_report(y_test, ml_pipe.predict(X_test), output_dict=True))\n"
   ]
  },
  {
   "cell_type": "markdown",
   "metadata": {},
   "source": [
    "### Multi model x Multi embedding\n",
    "Run `src/TrainMultiModel.py`"
   ]
  }
 ],
 "metadata": {
  "kernelspec": {
   "display_name": "Python 3.8.13 ('hate-seepch')",
   "language": "python",
   "name": "python3"
  },
  "language_info": {
   "codemirror_mode": {
    "name": "ipython",
    "version": 3
   },
   "file_extension": ".py",
   "mimetype": "text/x-python",
   "name": "python",
   "nbconvert_exporter": "python",
   "pygments_lexer": "ipython3",
   "version": "3.8.13"
  },
  "orig_nbformat": 4,
  "vscode": {
   "interpreter": {
    "hash": "7304d3c1a35396b9e299acc644b89f0e56d4154029b20ed6ab08effb23ac070c"
   }
  }
 },
 "nbformat": 4,
 "nbformat_minor": 2
}
