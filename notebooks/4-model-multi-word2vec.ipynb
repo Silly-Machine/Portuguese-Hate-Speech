{
 "cells": [
  {
   "cell_type": "markdown",
   "metadata": {},
   "source": [
    "## Requirements\n"
   ]
  },
  {
   "cell_type": "code",
   "execution_count": 1,
   "metadata": {},
   "outputs": [],
   "source": [
    "# Unable warnings\n",
    "import os\n",
    "import warnings\n",
    "\n",
    "warnings.filterwarnings(\"ignore\")\n",
    "os.environ['TF_CPP_MIN_LOG_LEVEL'] = '3'"
   ]
  },
  {
   "cell_type": "markdown",
   "metadata": {},
   "source": [
    "#### Directory adjustment\n"
   ]
  },
  {
   "cell_type": "code",
   "execution_count": 2,
   "metadata": {},
   "outputs": [],
   "source": [
    "from pathlib import Path\n",
    "import sys\n",
    "import os\n",
    "\n",
    "# Back to main folder\n",
    "path = os.path.dirname(os.getcwd()) + \"/\"\n",
    "os.chdir(path)\n",
    "sys.path.append(path)\n"
   ]
  },
  {
   "cell_type": "markdown",
   "metadata": {},
   "source": [
    "#### Data Processing\n"
   ]
  },
  {
   "cell_type": "code",
   "execution_count": 3,
   "metadata": {},
   "outputs": [],
   "source": [
    "# ETL\n",
    "import numpy as np\n",
    "import pandas as pd\n",
    "import multiprocessing\n",
    "\n",
    "# ML preprocessing\n",
    "from sklearn.preprocessing import label_binarize\n",
    "from sklearn.model_selection import train_test_split\n",
    "from sklearn.preprocessing import StandardScaler\n",
    "from sklearn.model_selection import KFold\n",
    "from sklearn.feature_selection import chi2\n"
   ]
  },
  {
   "cell_type": "markdown",
   "metadata": {},
   "source": [
    "#### Natural language processing\n"
   ]
  },
  {
   "cell_type": "code",
   "execution_count": 4,
   "metadata": {},
   "outputs": [],
   "source": [
    "# Basic\n",
    "import re\n",
    "\n",
    "# Vectorization\n",
    "from sklearn.feature_extraction.text import CountVectorizer\n",
    "from sklearn.feature_extraction.text import TfidfVectorizer\n",
    "\n",
    "# Embedding\n",
    "from src.TextVectorization import MeanEmbeddingVectorizer\n",
    "from gensim.models import KeyedVectors\n",
    "from gensim import models\n",
    "import gensim\n"
   ]
  },
  {
   "cell_type": "markdown",
   "metadata": {},
   "source": [
    "#### Models\n"
   ]
  },
  {
   "cell_type": "code",
   "execution_count": 5,
   "metadata": {},
   "outputs": [],
   "source": [
    "# Pipe\n",
    "from sklearn.pipeline import Pipeline\n",
    "# Models\n",
    "from sklearn.ensemble import RandomForestClassifier\n",
    "from sklearn.linear_model import LogisticRegression\n",
    "from sklearn.multiclass import OneVsRestClassifier\n",
    "from sklearn.tree import DecisionTreeClassifier\n",
    "from sklearn.linear_model import SGDClassifier\n",
    "from sklearn.naive_bayes import MultinomialNB\n",
    "from sklearn.naive_bayes import BernoulliNB\n",
    "from sklearn.svm import LinearSVC\n",
    "from sklearn import svm\n",
    "from sklearn.neighbors import KNeighborsClassifier\n",
    "from sklearn.ensemble import GradientBoostingClassifier\n",
    "from xgboost.sklearn import XGBClassifier\n",
    "# Metrics\n",
    "from sklearn.metrics import balanced_accuracy_score\n",
    "from sklearn.model_selection import cross_val_score\n",
    "from sklearn.metrics import classification_report\n",
    "from src.ModelAnalysis import ranking_recall\n",
    "\n",
    "from sklearn.metrics import precision_score\n",
    "from sklearn.metrics import accuracy_score\n",
    "from sklearn.metrics import recall_score\n",
    "from sklearn.metrics import roc_auc_score\n",
    "from sklearn.metrics import f1_score\n"
   ]
  },
  {
   "cell_type": "markdown",
   "metadata": {},
   "source": [
    "### Tracking\n"
   ]
  },
  {
   "cell_type": "code",
   "execution_count": 6,
   "metadata": {},
   "outputs": [
    {
     "data": {
      "text/plain": [
       "<Experiment: artifact_location='./artifacts/1', creation_time=1665929754799, experiment_id='1', last_update_time=1665929754799, lifecycle_stage='active', name='Hate Speech', tags={}>"
      ]
     },
     "execution_count": 6,
     "metadata": {},
     "output_type": "execute_result"
    }
   ],
   "source": [
    "import mlflow\n",
    "mlflow.set_tracking_uri('http://127.0.0.1:5000')\n",
    "mlflow.set_experiment('Hate Speech')"
   ]
  },
  {
   "cell_type": "markdown",
   "metadata": {},
   "source": [
    "## Set and split train and test data\n"
   ]
  },
  {
   "cell_type": "code",
   "execution_count": 7,
   "metadata": {},
   "outputs": [
    {
     "data": {
      "text/html": [
       "<div>\n",
       "<style scoped>\n",
       "    .dataframe tbody tr th:only-of-type {\n",
       "        vertical-align: middle;\n",
       "    }\n",
       "\n",
       "    .dataframe tbody tr th {\n",
       "        vertical-align: top;\n",
       "    }\n",
       "\n",
       "    .dataframe thead th {\n",
       "        text-align: right;\n",
       "    }\n",
       "</style>\n",
       "<table border=\"1\" class=\"dataframe\">\n",
       "  <thead>\n",
       "    <tr style=\"text-align: right;\">\n",
       "      <th></th>\n",
       "      <th>text_nonstop</th>\n",
       "      <th>text_lemma</th>\n",
       "      <th>text</th>\n",
       "      <th>length_text_nonstop</th>\n",
       "      <th>length_text_lemma</th>\n",
       "      <th>length_text</th>\n",
       "      <th>label</th>\n",
       "      <th>count_word_text_nonstop</th>\n",
       "      <th>count_word_text_lemma</th>\n",
       "      <th>count_word_text</th>\n",
       "      <th>...</th>\n",
       "      <th>pron</th>\n",
       "      <th>adp</th>\n",
       "      <th>aux</th>\n",
       "      <th>cconj</th>\n",
       "      <th>num</th>\n",
       "      <th>space</th>\n",
       "      <th>intj</th>\n",
       "      <th>sym</th>\n",
       "      <th>punct</th>\n",
       "      <th>part</th>\n",
       "    </tr>\n",
       "  </thead>\n",
       "  <tbody>\n",
       "    <tr>\n",
       "      <th>0</th>\n",
       "      <td>cara vive outro mundo nao mundo real refugiado...</td>\n",
       "      <td>caro viver outro mundo nao mundo real refugiad...</td>\n",
       "      <td>nomeusuario o cara vive em outro mundo nao no ...</td>\n",
       "      <td>85</td>\n",
       "      <td>82</td>\n",
       "      <td>124</td>\n",
       "      <td>1</td>\n",
       "      <td>19</td>\n",
       "      <td>19</td>\n",
       "      <td>20</td>\n",
       "      <td>...</td>\n",
       "      <td>0</td>\n",
       "      <td>0</td>\n",
       "      <td>0</td>\n",
       "      <td>0</td>\n",
       "      <td>0</td>\n",
       "      <td>0</td>\n",
       "      <td>0</td>\n",
       "      <td>0</td>\n",
       "      <td>0</td>\n",
       "      <td>0</td>\n",
       "    </tr>\n",
       "    <tr>\n",
       "      <th>1</th>\n",
       "      <td>incompetentes nao cuidam povo brasileiro pouco...</td>\n",
       "      <td>incompetente nao cuidar povo brasileiro pouco ...</td>\n",
       "      <td>nomeusuario estes incompetentes nao cuidam nem...</td>\n",
       "      <td>69</td>\n",
       "      <td>66</td>\n",
       "      <td>108</td>\n",
       "      <td>0</td>\n",
       "      <td>20</td>\n",
       "      <td>20</td>\n",
       "      <td>20</td>\n",
       "      <td>...</td>\n",
       "      <td>0</td>\n",
       "      <td>0</td>\n",
       "      <td>0</td>\n",
       "      <td>0</td>\n",
       "      <td>0</td>\n",
       "      <td>0</td>\n",
       "      <td>0</td>\n",
       "      <td>0</td>\n",
       "      <td>0</td>\n",
       "      <td>0</td>\n",
       "    </tr>\n",
       "  </tbody>\n",
       "</table>\n",
       "<p>2 rows × 27 columns</p>\n",
       "</div>"
      ],
      "text/plain": [
       "                                        text_nonstop  \\\n",
       "0  cara vive outro mundo nao mundo real refugiado...   \n",
       "1  incompetentes nao cuidam povo brasileiro pouco...   \n",
       "\n",
       "                                          text_lemma  \\\n",
       "0  caro viver outro mundo nao mundo real refugiad...   \n",
       "1  incompetente nao cuidar povo brasileiro pouco ...   \n",
       "\n",
       "                                                text  length_text_nonstop  \\\n",
       "0  nomeusuario o cara vive em outro mundo nao no ...                   85   \n",
       "1  nomeusuario estes incompetentes nao cuidam nem...                   69   \n",
       "\n",
       "   length_text_lemma  length_text  label  count_word_text_nonstop  \\\n",
       "0                 82          124      1                       19   \n",
       "1                 66          108      0                       20   \n",
       "\n",
       "   count_word_text_lemma  count_word_text  ...  pron  adp  aux  cconj  num  \\\n",
       "0                     19               20  ...     0    0    0      0    0   \n",
       "1                     20               20  ...     0    0    0      0    0   \n",
       "\n",
       "   space  intj  sym  punct  part  \n",
       "0      0     0    0      0     0  \n",
       "1      0     0    0      0     0  \n",
       "\n",
       "[2 rows x 27 columns]"
      ]
     },
     "execution_count": 7,
     "metadata": {},
     "output_type": "execute_result"
    }
   ],
   "source": [
    "# Get data\n",
    "df = pd.read_csv(\"data/corpus/augmented_corpus_fortuna.csv\")\n",
    "df.head(2)\n"
   ]
  },
  {
   "cell_type": "code",
   "execution_count": 8,
   "metadata": {},
   "outputs": [],
   "source": [
    "# Set target and features\n",
    "target = \"label\"\n",
    "features = \"text_nonstop\"\n",
    "\n",
    "# Break apart dataset\n",
    "X = df[features].values.astype(\"U\")\n",
    "y = df[target]\n",
    "\n",
    "# Split train abd test\n",
    "X_train, X_test, y_train, y_test = train_test_split(\n",
    "    X, y, stratify=y, test_size=0.2, random_state=42\n",
    ")\n",
    "\n",
    "# Class weights\n",
    "pos = len(df.query('label==1'))\n",
    "neg = len(df.query('label==0'))\n",
    "weight_for_0 = (1 / neg) * (len(df) / 2.0)\n",
    "weight_for_1 = (1 / pos) * (len(df) / 2.0)\n",
    "class_weight = {0: weight_for_0, 1: weight_for_1}\n"
   ]
  },
  {
   "cell_type": "code",
   "execution_count": 9,
   "metadata": {},
   "outputs": [],
   "source": [
    "classifiers = {'GradientBoosting': GradientBoostingClassifier(),\n",
    "               'KNeighbors': KNeighborsClassifier(),\n",
    "               'Bernoulli': BernoulliNB(alpha=1.0, binarize=0.0, fit_prior=True, class_prior=None),\n",
    "               'SVC': LinearSVC(penalty='l2', loss='squared_hinge', dual=True, tol=0.0001, C=1.0, multi_class='crammer_singer', fit_intercept=True, intercept_scaling=1, class_weight=class_weight, verbose=0, random_state=42, max_iter=1000),\n",
    "               'LogisticRegression': LogisticRegression(penalty='l2', max_iter=200, C=1),\n",
    "               'SGDC': SGDClassifier(loss='hinge', max_iter=200),\n",
    "               'DecisionTree': DecisionTreeClassifier(random_state=42, class_weight=class_weight),\n",
    "               'RandomForest': RandomForestClassifier(random_state=42, class_weight=class_weight),\n",
    "               'SVM': svm.SVC(kernel='rbf')}"
   ]
  },
  {
   "cell_type": "markdown",
   "metadata": {},
   "source": [
    "## My own word2vec embedding model"
   ]
  },
  {
   "cell_type": "code",
   "execution_count": 10,
   "metadata": {},
   "outputs": [],
   "source": [
    "# Define a corpus\n",
    "corpus = X\n",
    "cores = multiprocessing.cpu_count()\n",
    "\n",
    "# Train a own word2vec model\n",
    "my_embedding_50d = gensim.models.Word2Vec(\n",
    "    corpus,\n",
    "    vector_size=50,\n",
    "    window=4,\n",
    "    min_count=10,\n",
    "    sg=1,\n",
    "    workers=cores - 1,\n",
    "    batch_words=10000,\n",
    "    alpha=0.1,\n",
    "    min_alpha=0.0001,\n",
    "    negative=20,\n",
    ")\n",
    "\n",
    "my_embedding_100d = gensim.models.Word2Vec(\n",
    "    corpus,\n",
    "    vector_size=50,\n",
    "    window=4,\n",
    "    min_count=10,\n",
    "    sg=1,\n",
    "    workers=cores - 1,\n",
    "    batch_words=10000,\n",
    "    alpha=0.1,\n",
    "    min_alpha=0.0001,\n",
    "    negative=20,\n",
    ")\n",
    "\n",
    "my_embedding_300d = gensim.models.Word2Vec(\n",
    "    corpus,\n",
    "    vector_size=300,\n",
    "    window=4,\n",
    "    min_count=10,\n",
    "    sg=1,\n",
    "    workers=cores - 1,\n",
    "    batch_words=10000,\n",
    "    alpha=0.1,\n",
    "    min_alpha=0.0001,\n",
    "    negative=20,\n",
    ")\n",
    "\n",
    "\n",
    "my_embedding_1000d = gensim.models.Word2Vec(\n",
    "    corpus,\n",
    "    vector_size=1000,\n",
    "    window=4,\n",
    "    min_count=10,\n",
    "    sg=1,\n",
    "    workers=cores - 1,\n",
    "    batch_words=10000,\n",
    "    alpha=0.1,\n",
    "    min_alpha=0.0001,\n",
    "    negative=20,\n",
    ")\n",
    "\n",
    "# Make embedding dictionary {token:vector}\n",
    "my_embedding_50d = dict(\n",
    "    zip(my_embedding_50d.wv.index_to_key, my_embedding_50d.wv.vectors))\n",
    "\n",
    "my_embedding_100d = dict(\n",
    "    zip(my_embedding_100d.wv.index_to_key, my_embedding_100d.wv.vectors))\n",
    "\n",
    "my_embedding_300d = dict(\n",
    "    zip(my_embedding_300d.wv.index_to_key, my_embedding_300d.wv.vectors))\n",
    "\n",
    "my_embedding_1000d = dict(\n",
    "    zip(my_embedding_1000d.wv.index_to_key, my_embedding_1000d.wv.vectors))\n"
   ]
  },
  {
   "cell_type": "markdown",
   "metadata": {},
   "source": [
    "### Basic pipeline"
   ]
  },
  {
   "cell_type": "code",
   "execution_count": 11,
   "metadata": {},
   "outputs": [
    {
     "data": {
      "text/html": [
       "<div>\n",
       "<style scoped>\n",
       "    .dataframe tbody tr th:only-of-type {\n",
       "        vertical-align: middle;\n",
       "    }\n",
       "\n",
       "    .dataframe tbody tr th {\n",
       "        vertical-align: top;\n",
       "    }\n",
       "\n",
       "    .dataframe thead th {\n",
       "        text-align: right;\n",
       "    }\n",
       "</style>\n",
       "<table border=\"1\" class=\"dataframe\">\n",
       "  <thead>\n",
       "    <tr style=\"text-align: right;\">\n",
       "      <th></th>\n",
       "      <th>0</th>\n",
       "      <th>1</th>\n",
       "      <th>accuracy</th>\n",
       "      <th>macro avg</th>\n",
       "      <th>weighted avg</th>\n",
       "    </tr>\n",
       "  </thead>\n",
       "  <tbody>\n",
       "    <tr>\n",
       "      <th>precision</th>\n",
       "      <td>0.786195</td>\n",
       "      <td>0.425926</td>\n",
       "      <td>0.614638</td>\n",
       "      <td>0.606061</td>\n",
       "      <td>0.672777</td>\n",
       "    </tr>\n",
       "    <tr>\n",
       "      <th>recall</th>\n",
       "      <td>0.601030</td>\n",
       "      <td>0.644258</td>\n",
       "      <td>0.614638</td>\n",
       "      <td>0.622644</td>\n",
       "      <td>0.614638</td>\n",
       "    </tr>\n",
       "    <tr>\n",
       "      <th>f1-score</th>\n",
       "      <td>0.681255</td>\n",
       "      <td>0.512821</td>\n",
       "      <td>0.614638</td>\n",
       "      <td>0.597038</td>\n",
       "      <td>0.628229</td>\n",
       "    </tr>\n",
       "    <tr>\n",
       "      <th>support</th>\n",
       "      <td>777.000000</td>\n",
       "      <td>357.000000</td>\n",
       "      <td>0.614638</td>\n",
       "      <td>1134.000000</td>\n",
       "      <td>1134.000000</td>\n",
       "    </tr>\n",
       "  </tbody>\n",
       "</table>\n",
       "</div>"
      ],
      "text/plain": [
       "                    0           1  accuracy    macro avg  weighted avg\n",
       "precision    0.786195    0.425926  0.614638     0.606061      0.672777\n",
       "recall       0.601030    0.644258  0.614638     0.622644      0.614638\n",
       "f1-score     0.681255    0.512821  0.614638     0.597038      0.628229\n",
       "support    777.000000  357.000000  0.614638  1134.000000   1134.000000"
      ]
     },
     "execution_count": 11,
     "metadata": {},
     "output_type": "execute_result"
    }
   ],
   "source": [
    "# Basic pipeline\n",
    "ml_pipe = Pipeline(\n",
    "    [\n",
    "        (\"vectorizer\", MeanEmbeddingVectorizer(my_embedding_50d)),\n",
    "        (\"classifier\", LinearSVC(penalty='l2', loss='squared_hinge', dual=True, tol=0.0001, C=1, multi_class='crammer_singer',\n",
    "         fit_intercept=True, intercept_scaling=1, class_weight=class_weight, verbose=0, random_state=42, max_iter=100000),),\n",
    "    ]\n",
    ")\n",
    "\n",
    "# Train\n",
    "ml_pipe.fit(X_train, y_train)\n",
    "\n",
    "pd.DataFrame(classification_report(\n",
    "    y_test, ml_pipe.predict(X_test), output_dict=True))\n"
   ]
  },
  {
   "cell_type": "markdown",
   "metadata": {},
   "source": [
    "### Multi model test - 50D"
   ]
  },
  {
   "cell_type": "code",
   "execution_count": 12,
   "metadata": {},
   "outputs": [
    {
     "name": "stderr",
     "output_type": "stream",
     "text": [
      "2022/10/19 11:26:13 WARNING mlflow.utils.requirements_utils: The following packages were not found in the public PyPI package index as of 2022-09-16; if these packages are not present in the public PyPI index, you must install them manually before loading your model: {'minhasoma'}\n",
      "2022/10/19 11:26:15 WARNING mlflow.utils.requirements_utils: The following packages were not found in the public PyPI package index as of 2022-09-16; if these packages are not present in the public PyPI index, you must install them manually before loading your model: {'minhasoma'}\n",
      "2022/10/19 11:26:21 WARNING mlflow.utils.requirements_utils: The following packages were not found in the public PyPI package index as of 2022-09-16; if these packages are not present in the public PyPI index, you must install them manually before loading your model: {'minhasoma'}\n",
      "2022/10/19 11:26:23 WARNING mlflow.utils.requirements_utils: The following packages were not found in the public PyPI package index as of 2022-09-16; if these packages are not present in the public PyPI index, you must install them manually before loading your model: {'minhasoma'}\n",
      "2022/10/19 11:26:27 WARNING mlflow.utils.requirements_utils: The following packages were not found in the public PyPI package index as of 2022-09-16; if these packages are not present in the public PyPI index, you must install them manually before loading your model: {'minhasoma'}\n",
      "2022/10/19 11:26:29 WARNING mlflow.utils.requirements_utils: The following packages were not found in the public PyPI package index as of 2022-09-16; if these packages are not present in the public PyPI index, you must install them manually before loading your model: {'minhasoma'}\n",
      "2022/10/19 11:26:33 WARNING mlflow.utils.requirements_utils: The following packages were not found in the public PyPI package index as of 2022-09-16; if these packages are not present in the public PyPI index, you must install them manually before loading your model: {'minhasoma'}\n",
      "2022/10/19 11:26:35 WARNING mlflow.utils.requirements_utils: The following packages were not found in the public PyPI package index as of 2022-09-16; if these packages are not present in the public PyPI index, you must install them manually before loading your model: {'minhasoma'}\n",
      "2022/10/19 11:26:39 WARNING mlflow.utils.requirements_utils: The following packages were not found in the public PyPI package index as of 2022-09-16; if these packages are not present in the public PyPI index, you must install them manually before loading your model: {'minhasoma'}\n",
      "2022/10/19 11:26:41 WARNING mlflow.utils.requirements_utils: The following packages were not found in the public PyPI package index as of 2022-09-16; if these packages are not present in the public PyPI index, you must install them manually before loading your model: {'minhasoma'}\n",
      "2022/10/19 11:26:45 WARNING mlflow.utils.requirements_utils: The following packages were not found in the public PyPI package index as of 2022-09-16; if these packages are not present in the public PyPI index, you must install them manually before loading your model: {'minhasoma'}\n",
      "2022/10/19 11:26:47 WARNING mlflow.utils.requirements_utils: The following packages were not found in the public PyPI package index as of 2022-09-16; if these packages are not present in the public PyPI index, you must install them manually before loading your model: {'minhasoma'}\n",
      "2022/10/19 11:26:51 WARNING mlflow.utils.requirements_utils: The following packages were not found in the public PyPI package index as of 2022-09-16; if these packages are not present in the public PyPI index, you must install them manually before loading your model: {'minhasoma'}\n",
      "2022/10/19 11:26:53 WARNING mlflow.utils.requirements_utils: The following packages were not found in the public PyPI package index as of 2022-09-16; if these packages are not present in the public PyPI index, you must install them manually before loading your model: {'minhasoma'}\n",
      "2022/10/19 11:27:00 WARNING mlflow.utils.requirements_utils: The following packages were not found in the public PyPI package index as of 2022-09-16; if these packages are not present in the public PyPI index, you must install them manually before loading your model: {'minhasoma'}\n",
      "2022/10/19 11:27:02 WARNING mlflow.utils.requirements_utils: The following packages were not found in the public PyPI package index as of 2022-09-16; if these packages are not present in the public PyPI index, you must install them manually before loading your model: {'minhasoma'}\n",
      "2022/10/19 11:27:11 WARNING mlflow.utils.requirements_utils: The following packages were not found in the public PyPI package index as of 2022-09-16; if these packages are not present in the public PyPI index, you must install them manually before loading your model: {'minhasoma'}\n",
      "2022/10/19 11:27:13 WARNING mlflow.utils.requirements_utils: The following packages were not found in the public PyPI package index as of 2022-09-16; if these packages are not present in the public PyPI index, you must install them manually before loading your model: {'minhasoma'}\n"
     ]
    }
   ],
   "source": [
    "for model_name, classifier in classifiers.items():\n",
    "    mlflow.sklearn.autolog()\n",
    "    with mlflow.start_run():\n",
    "        ml_pipe = Pipeline([('vectorizer', MeanEmbeddingVectorizer(my_embedding_50d)),\n",
    "                           ('classifier', classifier)])\n",
    "\n",
    "        # Model fit\n",
    "        ml_pipe.fit(X_train, y_train)\n",
    "        y_predict = ml_pipe.predict(X_test)\n",
    "\n",
    "        # Tracking\n",
    "        mlflow.log_params(ml_pipe.get_params())\n",
    "        mlflow.log_metric('precision', precision_score(y_test, y_predict))\n",
    "        mlflow.log_metric('accuracy', accuracy_score(y_test, y_predict))\n",
    "        mlflow.log_metric('recall', recall_score(y_test, y_predict))\n",
    "        mlflow.log_metric('auc', roc_auc_score(y_test, y_predict))\n",
    "        mlflow.log_metric('f1', f1_score(y_test, y_predict))\n",
    "        mlflow.sklearn.log_model(ml_pipe, model_name + 'my_embedding_50d')\n"
   ]
  },
  {
   "cell_type": "markdown",
   "metadata": {},
   "source": [
    "### Multi model test - 100D"
   ]
  },
  {
   "cell_type": "code",
   "execution_count": 13,
   "metadata": {},
   "outputs": [
    {
     "name": "stderr",
     "output_type": "stream",
     "text": [
      "2022/10/19 11:27:22 WARNING mlflow.utils.requirements_utils: The following packages were not found in the public PyPI package index as of 2022-09-16; if these packages are not present in the public PyPI index, you must install them manually before loading your model: {'minhasoma'}\n",
      "2022/10/19 11:27:23 WARNING mlflow.utils.requirements_utils: The following packages were not found in the public PyPI package index as of 2022-09-16; if these packages are not present in the public PyPI index, you must install them manually before loading your model: {'minhasoma'}\n",
      "2022/10/19 11:27:29 WARNING mlflow.utils.requirements_utils: The following packages were not found in the public PyPI package index as of 2022-09-16; if these packages are not present in the public PyPI index, you must install them manually before loading your model: {'minhasoma'}\n",
      "2022/10/19 11:27:31 WARNING mlflow.utils.requirements_utils: The following packages were not found in the public PyPI package index as of 2022-09-16; if these packages are not present in the public PyPI index, you must install them manually before loading your model: {'minhasoma'}\n",
      "2022/10/19 11:27:35 WARNING mlflow.utils.requirements_utils: The following packages were not found in the public PyPI package index as of 2022-09-16; if these packages are not present in the public PyPI index, you must install them manually before loading your model: {'minhasoma'}\n",
      "2022/10/19 11:27:37 WARNING mlflow.utils.requirements_utils: The following packages were not found in the public PyPI package index as of 2022-09-16; if these packages are not present in the public PyPI index, you must install them manually before loading your model: {'minhasoma'}\n",
      "2022/10/19 11:27:41 WARNING mlflow.utils.requirements_utils: The following packages were not found in the public PyPI package index as of 2022-09-16; if these packages are not present in the public PyPI index, you must install them manually before loading your model: {'minhasoma'}\n",
      "2022/10/19 11:27:43 WARNING mlflow.utils.requirements_utils: The following packages were not found in the public PyPI package index as of 2022-09-16; if these packages are not present in the public PyPI index, you must install them manually before loading your model: {'minhasoma'}\n",
      "2022/10/19 11:27:47 WARNING mlflow.utils.requirements_utils: The following packages were not found in the public PyPI package index as of 2022-09-16; if these packages are not present in the public PyPI index, you must install them manually before loading your model: {'minhasoma'}\n",
      "2022/10/19 11:27:50 WARNING mlflow.utils.requirements_utils: The following packages were not found in the public PyPI package index as of 2022-09-16; if these packages are not present in the public PyPI index, you must install them manually before loading your model: {'minhasoma'}\n",
      "2022/10/19 11:27:54 WARNING mlflow.utils.requirements_utils: The following packages were not found in the public PyPI package index as of 2022-09-16; if these packages are not present in the public PyPI index, you must install them manually before loading your model: {'minhasoma'}\n",
      "2022/10/19 11:27:55 WARNING mlflow.utils.requirements_utils: The following packages were not found in the public PyPI package index as of 2022-09-16; if these packages are not present in the public PyPI index, you must install them manually before loading your model: {'minhasoma'}\n",
      "2022/10/19 11:27:59 WARNING mlflow.utils.requirements_utils: The following packages were not found in the public PyPI package index as of 2022-09-16; if these packages are not present in the public PyPI index, you must install them manually before loading your model: {'minhasoma'}\n",
      "2022/10/19 11:28:01 WARNING mlflow.utils.requirements_utils: The following packages were not found in the public PyPI package index as of 2022-09-16; if these packages are not present in the public PyPI index, you must install them manually before loading your model: {'minhasoma'}\n",
      "2022/10/19 11:28:07 WARNING mlflow.utils.requirements_utils: The following packages were not found in the public PyPI package index as of 2022-09-16; if these packages are not present in the public PyPI index, you must install them manually before loading your model: {'minhasoma'}\n",
      "2022/10/19 11:28:09 WARNING mlflow.utils.requirements_utils: The following packages were not found in the public PyPI package index as of 2022-09-16; if these packages are not present in the public PyPI index, you must install them manually before loading your model: {'minhasoma'}\n",
      "2022/10/19 11:28:18 WARNING mlflow.utils.requirements_utils: The following packages were not found in the public PyPI package index as of 2022-09-16; if these packages are not present in the public PyPI index, you must install them manually before loading your model: {'minhasoma'}\n",
      "2022/10/19 11:28:20 WARNING mlflow.utils.requirements_utils: The following packages were not found in the public PyPI package index as of 2022-09-16; if these packages are not present in the public PyPI index, you must install them manually before loading your model: {'minhasoma'}\n"
     ]
    }
   ],
   "source": [
    "for model_name, classifier in classifiers.items():\n",
    "    mlflow.sklearn.autolog()\n",
    "    with mlflow.start_run():\n",
    "        ml_pipe = Pipeline([('vectorizer', MeanEmbeddingVectorizer(my_embedding_100d)),\n",
    "                           ('classifier', classifier)])\n",
    "\n",
    "        # Model fit\n",
    "        ml_pipe.fit(X_train, y_train)\n",
    "        y_predict = ml_pipe.predict(X_test)\n",
    "\n",
    "        # Tracking\n",
    "        mlflow.log_params(ml_pipe.get_params())\n",
    "        mlflow.log_metric('precision', precision_score(y_test, y_predict))\n",
    "        mlflow.log_metric('accuracy', accuracy_score(y_test, y_predict))\n",
    "        mlflow.log_metric('recall', recall_score(y_test, y_predict))\n",
    "        mlflow.log_metric('auc', roc_auc_score(y_test, y_predict))\n",
    "        mlflow.log_metric('f1', f1_score(y_test, y_predict))\n",
    "        mlflow.sklearn.log_model(ml_pipe, model_name + 'my_embedding_100d')\n"
   ]
  },
  {
   "cell_type": "markdown",
   "metadata": {},
   "source": [
    "### Multi model test - 300D"
   ]
  },
  {
   "cell_type": "code",
   "execution_count": 14,
   "metadata": {},
   "outputs": [
    {
     "name": "stderr",
     "output_type": "stream",
     "text": [
      "2022/10/19 11:28:54 WARNING mlflow.utils.requirements_utils: The following packages were not found in the public PyPI package index as of 2022-09-16; if these packages are not present in the public PyPI index, you must install them manually before loading your model: {'minhasoma'}\n",
      "2022/10/19 11:28:56 WARNING mlflow.utils.requirements_utils: The following packages were not found in the public PyPI package index as of 2022-09-16; if these packages are not present in the public PyPI index, you must install them manually before loading your model: {'minhasoma'}\n",
      "2022/10/19 11:29:03 WARNING mlflow.utils.requirements_utils: The following packages were not found in the public PyPI package index as of 2022-09-16; if these packages are not present in the public PyPI index, you must install them manually before loading your model: {'minhasoma'}\n",
      "2022/10/19 11:29:05 WARNING mlflow.utils.requirements_utils: The following packages were not found in the public PyPI package index as of 2022-09-16; if these packages are not present in the public PyPI index, you must install them manually before loading your model: {'minhasoma'}\n",
      "2022/10/19 11:29:09 WARNING mlflow.utils.requirements_utils: The following packages were not found in the public PyPI package index as of 2022-09-16; if these packages are not present in the public PyPI index, you must install them manually before loading your model: {'minhasoma'}\n",
      "2022/10/19 11:29:11 WARNING mlflow.utils.requirements_utils: The following packages were not found in the public PyPI package index as of 2022-09-16; if these packages are not present in the public PyPI index, you must install them manually before loading your model: {'minhasoma'}\n",
      "2022/10/19 11:29:15 WARNING mlflow.utils.requirements_utils: The following packages were not found in the public PyPI package index as of 2022-09-16; if these packages are not present in the public PyPI index, you must install them manually before loading your model: {'minhasoma'}\n",
      "2022/10/19 11:29:17 WARNING mlflow.utils.requirements_utils: The following packages were not found in the public PyPI package index as of 2022-09-16; if these packages are not present in the public PyPI index, you must install them manually before loading your model: {'minhasoma'}\n",
      "2022/10/19 11:29:22 WARNING mlflow.utils.requirements_utils: The following packages were not found in the public PyPI package index as of 2022-09-16; if these packages are not present in the public PyPI index, you must install them manually before loading your model: {'minhasoma'}\n",
      "2022/10/19 11:29:24 WARNING mlflow.utils.requirements_utils: The following packages were not found in the public PyPI package index as of 2022-09-16; if these packages are not present in the public PyPI index, you must install them manually before loading your model: {'minhasoma'}\n",
      "2022/10/19 11:29:28 WARNING mlflow.utils.requirements_utils: The following packages were not found in the public PyPI package index as of 2022-09-16; if these packages are not present in the public PyPI index, you must install them manually before loading your model: {'minhasoma'}\n",
      "2022/10/19 11:29:30 WARNING mlflow.utils.requirements_utils: The following packages were not found in the public PyPI package index as of 2022-09-16; if these packages are not present in the public PyPI index, you must install them manually before loading your model: {'minhasoma'}\n",
      "2022/10/19 11:29:35 WARNING mlflow.utils.requirements_utils: The following packages were not found in the public PyPI package index as of 2022-09-16; if these packages are not present in the public PyPI index, you must install them manually before loading your model: {'minhasoma'}\n",
      "2022/10/19 11:29:37 WARNING mlflow.utils.requirements_utils: The following packages were not found in the public PyPI package index as of 2022-09-16; if these packages are not present in the public PyPI index, you must install them manually before loading your model: {'minhasoma'}\n",
      "2022/10/19 11:29:47 WARNING mlflow.utils.requirements_utils: The following packages were not found in the public PyPI package index as of 2022-09-16; if these packages are not present in the public PyPI index, you must install them manually before loading your model: {'minhasoma'}\n",
      "2022/10/19 11:29:49 WARNING mlflow.utils.requirements_utils: The following packages were not found in the public PyPI package index as of 2022-09-16; if these packages are not present in the public PyPI index, you must install them manually before loading your model: {'minhasoma'}\n",
      "2022/10/19 11:30:12 WARNING mlflow.utils.requirements_utils: The following packages were not found in the public PyPI package index as of 2022-09-16; if these packages are not present in the public PyPI index, you must install them manually before loading your model: {'minhasoma'}\n",
      "2022/10/19 11:30:14 WARNING mlflow.utils.requirements_utils: The following packages were not found in the public PyPI package index as of 2022-09-16; if these packages are not present in the public PyPI index, you must install them manually before loading your model: {'minhasoma'}\n"
     ]
    }
   ],
   "source": [
    "for model_name, classifier in classifiers.items():\n",
    "    mlflow.sklearn.autolog()\n",
    "    with mlflow.start_run():\n",
    "        ml_pipe = Pipeline([('vectorizer', MeanEmbeddingVectorizer(my_embedding_300d)),\n",
    "                           ('classifier', classifier)])\n",
    "\n",
    "        # Model fit\n",
    "        ml_pipe.fit(X_train, y_train)\n",
    "        y_predict = ml_pipe.predict(X_test)\n",
    "\n",
    "        # Tracking\n",
    "        mlflow.log_params(ml_pipe.get_params())\n",
    "        mlflow.log_metric('precision', precision_score(y_test, y_predict))\n",
    "        mlflow.log_metric('accuracy', accuracy_score(y_test, y_predict))\n",
    "        mlflow.log_metric('recall', recall_score(y_test, y_predict))\n",
    "        mlflow.log_metric('auc', roc_auc_score(y_test, y_predict))\n",
    "        mlflow.log_metric('f1', f1_score(y_test, y_predict))\n",
    "        mlflow.sklearn.log_model(ml_pipe, model_name + 'my_embedding_300d')\n"
   ]
  },
  {
   "cell_type": "markdown",
   "metadata": {},
   "source": [
    "### Multi model test - 1000D"
   ]
  },
  {
   "cell_type": "code",
   "execution_count": 15,
   "metadata": {},
   "outputs": [
    {
     "name": "stderr",
     "output_type": "stream",
     "text": [
      "2022/10/19 11:32:04 WARNING mlflow.utils.requirements_utils: The following packages were not found in the public PyPI package index as of 2022-09-16; if these packages are not present in the public PyPI index, you must install them manually before loading your model: {'minhasoma'}\n",
      "2022/10/19 11:32:07 WARNING mlflow.utils.requirements_utils: The following packages were not found in the public PyPI package index as of 2022-09-16; if these packages are not present in the public PyPI index, you must install them manually before loading your model: {'minhasoma'}\n",
      "2022/10/19 11:32:16 WARNING mlflow.utils.requirements_utils: The following packages were not found in the public PyPI package index as of 2022-09-16; if these packages are not present in the public PyPI index, you must install them manually before loading your model: {'minhasoma'}\n",
      "2022/10/19 11:32:18 WARNING mlflow.utils.requirements_utils: The following packages were not found in the public PyPI package index as of 2022-09-16; if these packages are not present in the public PyPI index, you must install them manually before loading your model: {'minhasoma'}\n",
      "2022/10/19 11:32:23 WARNING mlflow.utils.requirements_utils: The following packages were not found in the public PyPI package index as of 2022-09-16; if these packages are not present in the public PyPI index, you must install them manually before loading your model: {'minhasoma'}\n",
      "2022/10/19 11:32:25 WARNING mlflow.utils.requirements_utils: The following packages were not found in the public PyPI package index as of 2022-09-16; if these packages are not present in the public PyPI index, you must install them manually before loading your model: {'minhasoma'}\n",
      "2022/10/19 11:32:30 WARNING mlflow.utils.requirements_utils: The following packages were not found in the public PyPI package index as of 2022-09-16; if these packages are not present in the public PyPI index, you must install them manually before loading your model: {'minhasoma'}\n",
      "2022/10/19 11:32:31 WARNING mlflow.utils.requirements_utils: The following packages were not found in the public PyPI package index as of 2022-09-16; if these packages are not present in the public PyPI index, you must install them manually before loading your model: {'minhasoma'}\n",
      "2022/10/19 11:32:36 WARNING mlflow.utils.requirements_utils: The following packages were not found in the public PyPI package index as of 2022-09-16; if these packages are not present in the public PyPI index, you must install them manually before loading your model: {'minhasoma'}\n",
      "2022/10/19 11:32:38 WARNING mlflow.utils.requirements_utils: The following packages were not found in the public PyPI package index as of 2022-09-16; if these packages are not present in the public PyPI index, you must install them manually before loading your model: {'minhasoma'}\n",
      "2022/10/19 11:32:43 WARNING mlflow.utils.requirements_utils: The following packages were not found in the public PyPI package index as of 2022-09-16; if these packages are not present in the public PyPI index, you must install them manually before loading your model: {'minhasoma'}\n",
      "2022/10/19 11:32:45 WARNING mlflow.utils.requirements_utils: The following packages were not found in the public PyPI package index as of 2022-09-16; if these packages are not present in the public PyPI index, you must install them manually before loading your model: {'minhasoma'}\n",
      "2022/10/19 11:32:53 WARNING mlflow.utils.requirements_utils: The following packages were not found in the public PyPI package index as of 2022-09-16; if these packages are not present in the public PyPI index, you must install them manually before loading your model: {'minhasoma'}\n",
      "2022/10/19 11:32:56 WARNING mlflow.utils.requirements_utils: The following packages were not found in the public PyPI package index as of 2022-09-16; if these packages are not present in the public PyPI index, you must install them manually before loading your model: {'minhasoma'}\n",
      "2022/10/19 11:33:10 WARNING mlflow.utils.requirements_utils: The following packages were not found in the public PyPI package index as of 2022-09-16; if these packages are not present in the public PyPI index, you must install them manually before loading your model: {'minhasoma'}\n",
      "2022/10/19 11:33:12 WARNING mlflow.utils.requirements_utils: The following packages were not found in the public PyPI package index as of 2022-09-16; if these packages are not present in the public PyPI index, you must install them manually before loading your model: {'minhasoma'}\n",
      "2022/10/19 11:34:13 WARNING mlflow.utils.requirements_utils: The following packages were not found in the public PyPI package index as of 2022-09-16; if these packages are not present in the public PyPI index, you must install them manually before loading your model: {'minhasoma'}\n",
      "2022/10/19 11:34:17 WARNING mlflow.utils.requirements_utils: The following packages were not found in the public PyPI package index as of 2022-09-16; if these packages are not present in the public PyPI index, you must install them manually before loading your model: {'minhasoma'}\n"
     ]
    }
   ],
   "source": [
    "for model_name, classifier in classifiers.items():\n",
    "    mlflow.sklearn.autolog()\n",
    "    with mlflow.start_run():\n",
    "        ml_pipe = Pipeline([('vectorizer', MeanEmbeddingVectorizer(my_embedding_1000d)),\n",
    "                           ('classifier', classifier)])\n",
    "\n",
    "        # Model fit\n",
    "        ml_pipe.fit(X_train, y_train)\n",
    "        y_predict = ml_pipe.predict(X_test)\n",
    "\n",
    "        # Tracking\n",
    "        mlflow.log_params(ml_pipe.get_params())\n",
    "        mlflow.log_metric('precision', precision_score(y_test, y_predict))\n",
    "        mlflow.log_metric('accuracy', accuracy_score(y_test, y_predict))\n",
    "        mlflow.log_metric('recall', recall_score(y_test, y_predict))\n",
    "        mlflow.log_metric('auc', roc_auc_score(y_test, y_predict))\n",
    "        mlflow.log_metric('f1', f1_score(y_test, y_predict))\n",
    "        mlflow.sklearn.log_model(ml_pipe, model_name + 'my_embedding_1000d')\n"
   ]
  },
  {
   "cell_type": "markdown",
   "metadata": {},
   "source": [
    "## Pre-trained model Wor2vec\n"
   ]
  },
  {
   "cell_type": "code",
   "execution_count": 16,
   "metadata": {},
   "outputs": [],
   "source": [
    "# # Load a pre-trained model\n",
    "pretrained_model = models.KeyedVectors.load_word2vec_format(\n",
    "    \"data/pretrained-skipgram/skip_s50.txt\", binary=False\n",
    ")\n",
    "pretrained_w2v = dict(\n",
    "    zip(pretrained_model.index_to_key, pretrained_model.vectors))\n"
   ]
  },
  {
   "cell_type": "markdown",
   "metadata": {},
   "source": [
    "### Basic pipeline"
   ]
  },
  {
   "cell_type": "code",
   "execution_count": 17,
   "metadata": {},
   "outputs": [
    {
     "name": "stderr",
     "output_type": "stream",
     "text": [
      "2022/10/19 11:34:42 INFO mlflow.utils.autologging_utils: Created MLflow autologging run with ID 'fab14c9d475745bb85b3d7f05033761e', which will track hyperparameters, performance metrics, model artifacts, and lineage information for the current sklearn workflow\n",
      "2022/10/19 11:34:55 WARNING mlflow.utils.requirements_utils: The following packages were not found in the public PyPI package index as of 2022-09-16; if these packages are not present in the public PyPI index, you must install them manually before loading your model: {'minhasoma'}\n"
     ]
    },
    {
     "data": {
      "text/html": [
       "<div>\n",
       "<style scoped>\n",
       "    .dataframe tbody tr th:only-of-type {\n",
       "        vertical-align: middle;\n",
       "    }\n",
       "\n",
       "    .dataframe tbody tr th {\n",
       "        vertical-align: top;\n",
       "    }\n",
       "\n",
       "    .dataframe thead th {\n",
       "        text-align: right;\n",
       "    }\n",
       "</style>\n",
       "<table border=\"1\" class=\"dataframe\">\n",
       "  <thead>\n",
       "    <tr style=\"text-align: right;\">\n",
       "      <th></th>\n",
       "      <th>0</th>\n",
       "      <th>1</th>\n",
       "      <th>accuracy</th>\n",
       "      <th>macro avg</th>\n",
       "      <th>weighted avg</th>\n",
       "    </tr>\n",
       "  </thead>\n",
       "  <tbody>\n",
       "    <tr>\n",
       "      <th>precision</th>\n",
       "      <td>0.758308</td>\n",
       "      <td>0.417373</td>\n",
       "      <td>0.616402</td>\n",
       "      <td>0.587841</td>\n",
       "      <td>0.650977</td>\n",
       "    </tr>\n",
       "    <tr>\n",
       "      <th>recall</th>\n",
       "      <td>0.646075</td>\n",
       "      <td>0.551821</td>\n",
       "      <td>0.616402</td>\n",
       "      <td>0.598948</td>\n",
       "      <td>0.616402</td>\n",
       "    </tr>\n",
       "    <tr>\n",
       "      <th>f1-score</th>\n",
       "      <td>0.697707</td>\n",
       "      <td>0.475271</td>\n",
       "      <td>0.616402</td>\n",
       "      <td>0.586489</td>\n",
       "      <td>0.627681</td>\n",
       "    </tr>\n",
       "    <tr>\n",
       "      <th>support</th>\n",
       "      <td>777.000000</td>\n",
       "      <td>357.000000</td>\n",
       "      <td>0.616402</td>\n",
       "      <td>1134.000000</td>\n",
       "      <td>1134.000000</td>\n",
       "    </tr>\n",
       "  </tbody>\n",
       "</table>\n",
       "</div>"
      ],
      "text/plain": [
       "                    0           1  accuracy    macro avg  weighted avg\n",
       "precision    0.758308    0.417373  0.616402     0.587841      0.650977\n",
       "recall       0.646075    0.551821  0.616402     0.598948      0.616402\n",
       "f1-score     0.697707    0.475271  0.616402     0.586489      0.627681\n",
       "support    777.000000  357.000000  0.616402  1134.000000   1134.000000"
      ]
     },
     "execution_count": 17,
     "metadata": {},
     "output_type": "execute_result"
    }
   ],
   "source": [
    "# Basic pipeline\n",
    "ml_pipe = Pipeline(\n",
    "    [\n",
    "        (\"vectorizer\", MeanEmbeddingVectorizer(pretrained_w2v)),\n",
    "        (\"classifier\", LinearSVC(penalty='l2', loss='squared_hinge', dual=True, tol=0.0001, C=1, multi_class='crammer_singer',\n",
    "         fit_intercept=True, intercept_scaling=1, class_weight=class_weight, verbose=0, random_state=42, max_iter=100000),),\n",
    "    ]\n",
    ")\n",
    "\n",
    "# Train\n",
    "ml_pipe.fit(X_train, y_train)\n",
    "\n",
    "pd.DataFrame(classification_report(\n",
    "    y_test, ml_pipe.predict(X_test), output_dict=True))\n"
   ]
  },
  {
   "cell_type": "markdown",
   "metadata": {},
   "source": [
    "### Multi model\n",
    "Run `src/TrainMultiModel.py`"
   ]
  }
 ],
 "metadata": {
  "kernelspec": {
   "display_name": "Python 3.8.13 ('hate-seepch')",
   "language": "python",
   "name": "python3"
  },
  "language_info": {
   "codemirror_mode": {
    "name": "ipython",
    "version": 3
   },
   "file_extension": ".py",
   "mimetype": "text/x-python",
   "name": "python",
   "nbconvert_exporter": "python",
   "pygments_lexer": "ipython3",
   "version": "3.8.13"
  },
  "orig_nbformat": 4,
  "vscode": {
   "interpreter": {
    "hash": "7304d3c1a35396b9e299acc644b89f0e56d4154029b20ed6ab08effb23ac070c"
   }
  }
 },
 "nbformat": 4,
 "nbformat_minor": 2
}
