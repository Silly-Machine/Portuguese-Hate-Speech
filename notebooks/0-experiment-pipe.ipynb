{
 "cells": [
  {
   "cell_type": "markdown",
   "metadata": {},
   "source": [
    "## Scope \n",
    "This notebook presents the basic architecture that must be followed to run and trace machine learning experiments"
   ]
  },
  {
   "cell_type": "markdown",
   "metadata": {},
   "source": [
    "## Requirements\n"
   ]
  },
  {
   "cell_type": "code",
   "execution_count": 1,
   "metadata": {},
   "outputs": [],
   "source": [
    "# Unable warnings\n",
    "import os\n",
    "import warnings\n",
    "\n",
    "warnings.filterwarnings(\"ignore\")\n",
    "os.environ['TF_CPP_MIN_LOG_LEVEL'] = '3'\n"
   ]
  },
  {
   "cell_type": "markdown",
   "metadata": {},
   "source": [
    "#### Directory adjustment\n"
   ]
  },
  {
   "cell_type": "code",
   "execution_count": 2,
   "metadata": {},
   "outputs": [],
   "source": [
    "from pathlib import Path\n",
    "import sys\n",
    "# Back to main folder\n",
    "path = os.path.dirname(os.getcwd())+\"/\"\n",
    "os.chdir(path)\n",
    "sys.path.append(path)\n"
   ]
  },
  {
   "cell_type": "markdown",
   "metadata": {},
   "source": [
    "#### ETL tools\n"
   ]
  },
  {
   "cell_type": "code",
   "execution_count": 3,
   "metadata": {},
   "outputs": [],
   "source": [
    "# ETL\n",
    "import numpy as np\n",
    "import pandas as pd"
   ]
  },
  {
   "cell_type": "markdown",
   "metadata": {},
   "source": [
    "#### NLP tools\n"
   ]
  },
  {
   "cell_type": "code",
   "execution_count": 4,
   "metadata": {},
   "outputs": [],
   "source": [
    "# Transformers\n",
    "from src.transformers.text import TextNormalizer\n",
    "from sklearn.feature_extraction.text import TfidfVectorizer\n"
   ]
  },
  {
   "cell_type": "markdown",
   "metadata": {},
   "source": [
    "#### Models\n"
   ]
  },
  {
   "cell_type": "code",
   "execution_count": 5,
   "metadata": {},
   "outputs": [],
   "source": [
    "# Tracking\n",
    "from src.experiment.tracking import experiment\n",
    "\n",
    "# Pipe\n",
    "from sklearn.pipeline import Pipeline\n",
    "\n",
    "# Models\n",
    "from sklearn.svm import LinearSVC\n",
    "\n",
    "# Evaluation\n",
    "from sklearn.metrics import classification_report\n"
   ]
  },
  {
   "cell_type": "markdown",
   "metadata": {},
   "source": [
    "## Data manipulation\n"
   ]
  },
  {
   "cell_type": "code",
   "execution_count": 6,
   "metadata": {},
   "outputs": [],
   "source": [
    "# Get data\n",
    "df_train = pd.read_csv(\"data/corpus/train_data.csv\")\n",
    "df_test = pd.read_csv(\"data/corpus/test_data.csv\")\n",
    "\n",
    "# Set target and features\n",
    "target = \"label\"\n",
    "features = \"text\"\n",
    "\n",
    "# Set train and test\n",
    "X_train, y_train = df_train[features], df_train[target]\n",
    "X_test, y_test = df_test[features], df_test[target]\n",
    "\n",
    "\n",
    "# Class weights\n",
    "pos = len(df_train.query(\"label==1\"))\n",
    "neg = len(df_train.query(\"label==0\"))\n",
    "extra = 1.25\n",
    "weight_for_0 = (1 / neg) * (len(df_train) / 2.0)\n",
    "weight_for_1 = (1 / pos) * (len(df_train) / 2.0) * extra\n",
    "class_weight = {0: weight_for_0, 1: weight_for_1}\n"
   ]
  },
  {
   "cell_type": "markdown",
   "metadata": {},
   "source": [
    "## Pipeline steps"
   ]
  },
  {
   "cell_type": "code",
   "execution_count": 7,
   "metadata": {},
   "outputs": [],
   "source": [
    "# Text normalizer\n",
    "wordlist = ['nomeusuario', 'paginaweb', 'emailusario',\n",
    "            'numerotelefone', 'simbolomonetario']\n",
    "\n",
    "normalizer = TextNormalizer(stopwords=True, wordlist=wordlist)\n",
    "\n",
    "# Text vectorizer\n",
    "vectorizer = TfidfVectorizer(lowercase=False,\n",
    "                             analyzer=\"word\",\n",
    "                             norm='l2',\n",
    "                             ngram_range=(1, 2),\n",
    "                             max_features=1500,\n",
    "                             sublinear_tf=True,\n",
    "                             min_df=2)\n",
    "# Classifier\n",
    "classifier = LinearSVC(penalty='l2',\n",
    "                       loss='squared_hinge',\n",
    "                       dual=True,\n",
    "                       tol=1e-6, C=1.1,\n",
    "                       multi_class='crammer_singer',\n",
    "                       fit_intercept=True,\n",
    "                       intercept_scaling=1,\n",
    "                       class_weight=class_weight,\n",
    "                       random_state=42,\n",
    "                       max_iter=1000)\n"
   ]
  },
  {
   "cell_type": "markdown",
   "metadata": {},
   "source": [
    "## Experiment"
   ]
  },
  {
   "cell_type": "code",
   "execution_count": 8,
   "metadata": {},
   "outputs": [
    {
     "name": "stdout",
     "output_type": "stream",
     "text": [
      "[MLFLOW] [START] starting server\n"
     ]
    },
    {
     "name": "stderr",
     "output_type": "stream",
     "text": [
      "[2022-10-25 17:05:38 -0300] [134750] [INFO] Starting gunicorn 20.1.0\n",
      "[2022-10-25 17:05:38 -0300] [134750] [INFO] Listening at: http://127.0.0.1:7500 (134750)\n",
      "[2022-10-25 17:05:38 -0300] [134750] [INFO] Using worker: sync\n",
      "[2022-10-25 17:05:38 -0300] [134752] [INFO] Booting worker with pid: 134752\n",
      "[2022-10-25 17:05:38 -0300] [134753] [INFO] Booting worker with pid: 134753\n",
      "[2022-10-25 17:05:38 -0300] [134754] [INFO] Booting worker with pid: 134754\n",
      "[2022-10-25 17:05:38 -0300] [134755] [INFO] Booting worker with pid: 134755\n"
     ]
    },
    {
     "name": "stdout",
     "output_type": "stream",
     "text": [
      "[MLFLOW][EXECUTION] running experiment\n"
     ]
    },
    {
     "name": "stderr",
     "output_type": "stream",
     "text": [
      "2022/10/25 17:05:55 WARNING mlflow.utils.requirements_utils: The following packages were not found in the public PyPI package index as of 2022-09-16; if these packages are not present in the public PyPI index, you must install them manually before loading your model: {'minhasoma'}\n",
      "2022/10/25 17:06:00 WARNING mlflow.utils.requirements_utils: The following packages were not found in the public PyPI package index as of 2022-09-16; if these packages are not present in the public PyPI index, you must install them manually before loading your model: {'minhasoma'}\n"
     ]
    },
    {
     "name": "stdout",
     "output_type": "stream",
     "text": [
      "[MLFLOW][FINISHED] experiment executed successfully\n"
     ]
    },
    {
     "data": {
      "text/html": [
       "<div>\n",
       "<style scoped>\n",
       "    .dataframe tbody tr th:only-of-type {\n",
       "        vertical-align: middle;\n",
       "    }\n",
       "\n",
       "    .dataframe tbody tr th {\n",
       "        vertical-align: top;\n",
       "    }\n",
       "\n",
       "    .dataframe thead th {\n",
       "        text-align: right;\n",
       "    }\n",
       "</style>\n",
       "<table border=\"1\" class=\"dataframe\">\n",
       "  <thead>\n",
       "    <tr style=\"text-align: right;\">\n",
       "      <th></th>\n",
       "      <th>0</th>\n",
       "      <th>1</th>\n",
       "      <th>accuracy</th>\n",
       "      <th>macro avg</th>\n",
       "      <th>weighted avg</th>\n",
       "    </tr>\n",
       "  </thead>\n",
       "  <tbody>\n",
       "    <tr>\n",
       "      <th>precision</th>\n",
       "      <td>0.848485</td>\n",
       "      <td>0.544304</td>\n",
       "      <td>0.72134</td>\n",
       "      <td>0.696394</td>\n",
       "      <td>0.752456</td>\n",
       "    </tr>\n",
       "    <tr>\n",
       "      <th>recall</th>\n",
       "      <td>0.721649</td>\n",
       "      <td>0.720670</td>\n",
       "      <td>0.72134</td>\n",
       "      <td>0.721160</td>\n",
       "      <td>0.721340</td>\n",
       "    </tr>\n",
       "    <tr>\n",
       "      <th>f1-score</th>\n",
       "      <td>0.779944</td>\n",
       "      <td>0.620192</td>\n",
       "      <td>0.72134</td>\n",
       "      <td>0.700068</td>\n",
       "      <td>0.729511</td>\n",
       "    </tr>\n",
       "    <tr>\n",
       "      <th>support</th>\n",
       "      <td>388.000000</td>\n",
       "      <td>179.000000</td>\n",
       "      <td>0.72134</td>\n",
       "      <td>567.000000</td>\n",
       "      <td>567.000000</td>\n",
       "    </tr>\n",
       "  </tbody>\n",
       "</table>\n",
       "</div>"
      ],
      "text/plain": [
       "                    0           1  accuracy   macro avg  weighted avg\n",
       "precision    0.848485    0.544304   0.72134    0.696394      0.752456\n",
       "recall       0.721649    0.720670   0.72134    0.721160      0.721340\n",
       "f1-score     0.779944    0.620192   0.72134    0.700068      0.729511\n",
       "support    388.000000  179.000000   0.72134  567.000000    567.000000"
      ]
     },
     "execution_count": 8,
     "metadata": {},
     "output_type": "execute_result"
    }
   ],
   "source": [
    "# Build a classifier pipeline\n",
    "ml_pipe = Pipeline(\n",
    "    [(\"normalizer\", normalizer), (\"vectorizer\", vectorizer), (\"classifier\", classifier)]\n",
    ")\n",
    "# Set experiment\n",
    "lab = experiment(\n",
    "    exp_name=\"Hate Speech\",\n",
    "    host=\"localhost\",\n",
    "    port=7500,\n",
    "    model_name=\"Linear SVC\",\n",
    "    model=ml_pipe,\n",
    ")\n",
    "# Evaluate experiment\n",
    "y_pred = lab.run(X_train, y_train, X_test, y_test, predictions=True)\n",
    "pd.DataFrame(classification_report(y_test, y_pred, output_dict=True))\n"
   ]
  }
 ],
 "metadata": {
  "kernelspec": {
   "display_name": "Python 3.8.13 ('hate-seepch')",
   "language": "python",
   "name": "python3"
  },
  "language_info": {
   "codemirror_mode": {
    "name": "ipython",
    "version": 3
   },
   "file_extension": ".py",
   "mimetype": "text/x-python",
   "name": "python",
   "nbconvert_exporter": "python",
   "pygments_lexer": "ipython3",
   "version": "3.8.13"
  },
  "orig_nbformat": 4,
  "vscode": {
   "interpreter": {
    "hash": "7304d3c1a35396b9e299acc644b89f0e56d4154029b20ed6ab08effb23ac070c"
   }
  }
 },
 "nbformat": 4,
 "nbformat_minor": 2
}
