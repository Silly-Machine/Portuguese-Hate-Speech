{
 "cells": [
  {
   "cell_type": "markdown",
   "metadata": {},
   "source": [
    "## Requirements\n"
   ]
  },
  {
   "cell_type": "code",
   "execution_count": 1,
   "metadata": {},
   "outputs": [],
   "source": [
    "# Unable warnings\n",
    "import os\n",
    "import warnings\n",
    "\n",
    "warnings.filterwarnings(\"ignore\")\n",
    "os.environ['TF_CPP_MIN_LOG_LEVEL'] = '3'\n"
   ]
  },
  {
   "cell_type": "markdown",
   "metadata": {},
   "source": [
    "#### Directory adjustment\n"
   ]
  },
  {
   "cell_type": "code",
   "execution_count": 2,
   "metadata": {},
   "outputs": [],
   "source": [
    "from pathlib import Path\n",
    "import sys\n",
    "import os\n",
    "# Back to main folder\n",
    "path = os.path.dirname(os.getcwd())+\"/\"\n",
    "os.chdir(path)\n",
    "sys.path.append(path)\n"
   ]
  },
  {
   "cell_type": "markdown",
   "metadata": {},
   "source": [
    "#### Data Processing\n"
   ]
  },
  {
   "cell_type": "code",
   "execution_count": 3,
   "metadata": {},
   "outputs": [],
   "source": [
    "# ETL\n",
    "import numpy as np\n",
    "import pandas as pd\n",
    "from pandas import MultiIndex, Int64Index\n",
    "\n",
    "# ML preprocessing\n",
    "from sklearn.preprocessing import label_binarize\n",
    "from sklearn.model_selection import train_test_split\n",
    "from sklearn.preprocessing import StandardScaler\n",
    "from sklearn.model_selection import KFold\n"
   ]
  },
  {
   "cell_type": "markdown",
   "metadata": {},
   "source": [
    "#### Natural language processing\n"
   ]
  },
  {
   "cell_type": "code",
   "execution_count": 4,
   "metadata": {},
   "outputs": [],
   "source": [
    "import gensim\n",
    "import spacy\n",
    "import re\n",
    "\n",
    "# Vectorization\n",
    "from sklearn.feature_extraction.text import CountVectorizer\n",
    "from sklearn.feature_extraction.text import TfidfVectorizer\n",
    "from src.transformers.text import TextNormalizer\n",
    "from gensim.models import KeyedVectors\n"
   ]
  },
  {
   "cell_type": "markdown",
   "metadata": {},
   "source": [
    "#### Models\n"
   ]
  },
  {
   "cell_type": "code",
   "execution_count": 5,
   "metadata": {},
   "outputs": [],
   "source": [
    "# Tracking\n",
    "from src.experiment.tracking import experiment\n",
    "\n",
    "# Pipe\n",
    "from sklearn.pipeline import Pipeline\n",
    "from sklearn.utils import class_weight\n",
    "\n",
    "# Models\n",
    "from sklearn.ensemble import RandomForestClassifier\n",
    "from sklearn.linear_model import LogisticRegression\n",
    "from sklearn.multiclass import OneVsRestClassifier\n",
    "from sklearn.tree import DecisionTreeClassifier\n",
    "from sklearn.linear_model import SGDClassifier\n",
    "from sklearn.naive_bayes import MultinomialNB\n",
    "from sklearn.naive_bayes import BernoulliNB\n",
    "from sklearn.svm import LinearSVC\n",
    "from sklearn import svm\n",
    "from sklearn.neighbors import KNeighborsClassifier\n",
    "from sklearn.ensemble import GradientBoostingClassifier\n",
    "from xgboost.sklearn import XGBClassifier\n",
    "\n",
    "# Metrics\n",
    "from sklearn.metrics import balanced_accuracy_score\n",
    "from sklearn.model_selection import cross_val_score\n",
    "from sklearn.metrics import classification_report\n",
    "from sklearn.metrics import precision_score\n",
    "from sklearn.metrics import accuracy_score\n",
    "from sklearn.metrics import recall_score\n",
    "from sklearn.metrics import roc_auc_score\n",
    "from sklearn.metrics import f1_score\n"
   ]
  },
  {
   "cell_type": "markdown",
   "metadata": {},
   "source": [
    "## Data version control (DVC)\n"
   ]
  },
  {
   "cell_type": "code",
   "execution_count": 6,
   "metadata": {},
   "outputs": [],
   "source": [
    "# DVC\n",
    "from src.data.control import version\n",
    "\n",
    "df_train, df_test = version().split(test_size=0.2)\n"
   ]
  },
  {
   "cell_type": "markdown",
   "metadata": {},
   "source": [
    "## Data manipulation"
   ]
  },
  {
   "cell_type": "code",
   "execution_count": 7,
   "metadata": {},
   "outputs": [],
   "source": [
    "# Set target and features\n",
    "target = \"label\"\n",
    "features = \"text\"\n",
    "\n",
    "# Set train and test\n",
    "X_train, y_train = df_train[features], df_train[target]\n",
    "X_test, y_test = df_test[features], df_test[target]\n",
    "\n",
    "\n",
    "# Set k-fold criteria\n",
    "k_fold = KFold(n_splits=10, shuffle=True, random_state=42)\n",
    "\n",
    "\n",
    "# Class weights\n",
    "pos = len(df_train.query(\"label==1\"))\n",
    "neg = len(df_train.query(\"label==0\"))\n",
    "weight_for_0 = (1 / neg) * (len(df_train) / 2.0)\n",
    "weight_for_1 = (1 / pos) * (len(df_train) / 2.0) * 1.1\n",
    "relative_weight = {0: weight_for_0, 1: weight_for_1}\n"
   ]
  },
  {
   "cell_type": "markdown",
   "metadata": {},
   "source": [
    "## Model building "
   ]
  },
  {
   "cell_type": "markdown",
   "metadata": {},
   "source": [
    "#### Pipe structures\n"
   ]
  },
  {
   "cell_type": "code",
   "execution_count": 8,
   "metadata": {},
   "outputs": [],
   "source": [
    "# Text normalizer\n",
    "wordlist = [\n",
    "    \"nomeusuario\",\n",
    "    \"paginaweb\",\n",
    "    \"emailusario\",\n",
    "    \"numerotelefone\",\n",
    "    \"simbolomonetario\",\n",
    "]\n",
    "\n",
    "normalizer = TextNormalizer(    stopwords=True, wordlist=wordlist, stemmer=False, lemma=False)\n",
    "\n",
    "# Text vectorizer\n",
    "vectorizer = TfidfVectorizer(\n",
    "    lowercase=False,\n",
    "    analyzer=\"char_wb\",\n",
    "    norm=\"l2\",\n",
    "    ngram_range=(1, 5),\n",
    "    max_features=2500,\n",
    "    sublinear_tf=True,\n",
    "    min_df=2,\n",
    ")\n"
   ]
  },
  {
   "cell_type": "markdown",
   "metadata": {},
   "source": [
    "#### Base model"
   ]
  },
  {
   "cell_type": "code",
   "execution_count": 9,
   "metadata": {},
   "outputs": [
    {
     "data": {
      "text/html": [
       "<div>\n",
       "<style scoped>\n",
       "    .dataframe tbody tr th:only-of-type {\n",
       "        vertical-align: middle;\n",
       "    }\n",
       "\n",
       "    .dataframe tbody tr th {\n",
       "        vertical-align: top;\n",
       "    }\n",
       "\n",
       "    .dataframe thead th {\n",
       "        text-align: right;\n",
       "    }\n",
       "</style>\n",
       "<table border=\"1\" class=\"dataframe\">\n",
       "  <thead>\n",
       "    <tr style=\"text-align: right;\">\n",
       "      <th></th>\n",
       "      <th>0</th>\n",
       "      <th>1</th>\n",
       "      <th>accuracy</th>\n",
       "      <th>macro avg</th>\n",
       "      <th>weighted avg</th>\n",
       "    </tr>\n",
       "  </thead>\n",
       "  <tbody>\n",
       "    <tr>\n",
       "      <th>precision</th>\n",
       "      <td>0.789630</td>\n",
       "      <td>0.468410</td>\n",
       "      <td>0.659612</td>\n",
       "      <td>0.629020</td>\n",
       "      <td>0.688505</td>\n",
       "    </tr>\n",
       "    <tr>\n",
       "      <th>recall</th>\n",
       "      <td>0.685972</td>\n",
       "      <td>0.602241</td>\n",
       "      <td>0.659612</td>\n",
       "      <td>0.644106</td>\n",
       "      <td>0.659612</td>\n",
       "    </tr>\n",
       "    <tr>\n",
       "      <th>f1-score</th>\n",
       "      <td>0.734160</td>\n",
       "      <td>0.526961</td>\n",
       "      <td>0.659612</td>\n",
       "      <td>0.630560</td>\n",
       "      <td>0.668930</td>\n",
       "    </tr>\n",
       "    <tr>\n",
       "      <th>support</th>\n",
       "      <td>777.000000</td>\n",
       "      <td>357.000000</td>\n",
       "      <td>0.659612</td>\n",
       "      <td>1134.000000</td>\n",
       "      <td>1134.000000</td>\n",
       "    </tr>\n",
       "  </tbody>\n",
       "</table>\n",
       "</div>"
      ],
      "text/plain": [
       "                    0           1  accuracy    macro avg  weighted avg\n",
       "precision    0.789630    0.468410  0.659612     0.629020      0.688505\n",
       "recall       0.685972    0.602241  0.659612     0.644106      0.659612\n",
       "f1-score     0.734160    0.526961  0.659612     0.630560      0.668930\n",
       "support    777.000000  357.000000  0.659612  1134.000000   1134.000000"
      ]
     },
     "execution_count": 9,
     "metadata": {},
     "output_type": "execute_result"
    }
   ],
   "source": [
    "# Fit train weights\n",
    "fit_weights = class_weight.compute_sample_weight(\n",
    "    class_weight=relative_weight, y=y_train\n",
    ")\n",
    "# Classifeir\n",
    "clf = XGBClassifier(booster=\"gblinear\", eta=\"0.1\" ,feature_selector=\"shuffle\" )\n",
    "\n",
    "# Vectorizer\n",
    "vectorizer.fit(X_train)\n",
    "XX_train = vectorizer.transform(normalizer.transform(X_train))\n",
    "XX_test = vectorizer.transform(normalizer.transform(X_test))\n",
    "\n",
    "# Train\n",
    "clf.fit(XX_train, y_train, sample_weight=fit_weights, eval_metric=\"error\")\n",
    "\n",
    "# Evaluate\n",
    "pd.DataFrame(classification_report(y_test, clf.predict(XX_test), output_dict=True))\n"
   ]
  },
  {
   "cell_type": "markdown",
   "metadata": {},
   "source": [
    "#### Multi model test"
   ]
  },
  {
   "cell_type": "code",
   "execution_count": 10,
   "metadata": {},
   "outputs": [
    {
     "name": "stdout",
     "output_type": "stream",
     "text": [
      "[MLFLOW] [START] server already running\n",
      "[MLFLOW][EXECUTION] running experiment\n"
     ]
    },
    {
     "name": "stderr",
     "output_type": "stream",
     "text": [
      "2022/10/26 19:02:18 WARNING mlflow.utils: Truncated the value of the key `steps`. Truncated value: `[('normalizer', TextNormalizer(wordlist=['nomeusuario', 'paginaweb', 'emailusario',\n",
      "                         'numerotelefone', 'simbolomonetario'])), ('vectorizer', TfidfVectorizer(analyzer='char_wb', lowercase=False, max_features=2500,\n",
      "                min_df=2, ngram_range=(1, 5), sublinear_tf=True)), ('classifier', DecisionTreeClassifier(class_weight={0: 0.7299645960733827,\n",
      "                                     1: 1.7458362491252624},\n",
      "                       max_features='auto', random_state=...`\n",
      "2022/10/26 19:02:35 WARNING mlflow.utils.requirements_utils: The following packages were not found in the public PyPI package index as of 2022-09-16; if these packages are not present in the public PyPI index, you must install them manually before loading your model: {'minhasoma'}\n",
      "2022/10/26 19:02:40 WARNING mlflow.utils.requirements_utils: The following packages were not found in the public PyPI package index as of 2022-09-16; if these packages are not present in the public PyPI index, you must install them manually before loading your model: {'minhasoma'}\n",
      "2022/10/26 19:02:40 WARNING mlflow.utils: Truncated the value of the key `steps`. Truncated value: `[('normalizer', TextNormalizer(wordlist=['nomeusuario', 'paginaweb', 'emailusario',\n",
      "                         'numerotelefone', 'simbolomonetario'])), ('vectorizer', TfidfVectorizer(analyzer='char_wb', lowercase=False, max_features=2500,\n",
      "                min_df=2, ngram_range=(1, 5), sublinear_tf=True)), ('classifier', RandomForestClassifier(class_weight={0: 0.7299645960733827,\n",
      "                                     1: 1.7458362491252624},\n",
      "                       max_features='auto', oob_score=Tru...`\n"
     ]
    },
    {
     "name": "stdout",
     "output_type": "stream",
     "text": [
      "[MLFLOW] [FINISHED] experiment executed successfully\n",
      "model:DecisionTree - acc:0.6305114638447972 - rec:0.48179271708683474 - auc:0.5903172079642668 - f1:0.45085190039318473 \n",
      "\n",
      "[MLFLOW] [START] server already running\n",
      "[MLFLOW][EXECUTION] running experiment\n"
     ]
    },
    {
     "name": "stderr",
     "output_type": "stream",
     "text": [
      "2022/10/26 19:03:03 WARNING mlflow.utils.requirements_utils: The following packages were not found in the public PyPI package index as of 2022-09-16; if these packages are not present in the public PyPI index, you must install them manually before loading your model: {'minhasoma'}\n",
      "2022/10/26 19:03:07 WARNING mlflow.utils.requirements_utils: The following packages were not found in the public PyPI package index as of 2022-09-16; if these packages are not present in the public PyPI index, you must install them manually before loading your model: {'minhasoma'}\n"
     ]
    },
    {
     "name": "stdout",
     "output_type": "stream",
     "text": [
      "[MLFLOW] [FINISHED] experiment executed successfully\n",
      "model:RandomForest - acc:0.7654320987654321 - rec:0.3949579831932773 - auc:0.6653039594216065 - f1:0.5145985401459854 \n",
      "\n"
     ]
    }
   ],
   "source": [
    "# Classifiers\n",
    "classifiers = {\n",
    "    \"DecisionTree\": DecisionTreeClassifier(\n",
    "        random_state=42,\n",
    "        class_weight=relative_weight,\n",
    "        min_samples_split=2,\n",
    "        max_features=\"auto\",\n",
    "    ),\n",
    "    \"RandomForest\": RandomForestClassifier(\n",
    "        random_state=42,\n",
    "        class_weight=relative_weight,\n",
    "        min_samples_split=2,\n",
    "        max_features=\"auto\",\n",
    "        oob_score=True,\n",
    "    ),\n",
    "}\n",
    "\n",
    "\n",
    "# Run experiments\n",
    "for model_name, classifier in classifiers.items():\n",
    "\n",
    "    # Build a classifier pipeline\n",
    "    ml_pipe = Pipeline(\n",
    "        [\n",
    "            (\"normalizer\", normalizer),\n",
    "            (\"vectorizer\", vectorizer),\n",
    "            (\"classifier\", classifier),\n",
    "        ]\n",
    "    )\n",
    "\n",
    "    # Set experiment\n",
    "    lab = experiment(\n",
    "        exp_name=\"Hate Speech\",\n",
    "        host=\"localhost\",\n",
    "        port=7500,\n",
    "        model_name=model_name,\n",
    "        model=ml_pipe,\n",
    "    )\n",
    "\n",
    "    # Evaluate experiment\n",
    "    y_pred = lab.run(X_train, y_train, X_test, y_test)\n"
   ]
  }
 ],
 "metadata": {
  "kernelspec": {
   "display_name": "Python 3.8.13 ('hate-seepch')",
   "language": "python",
   "name": "python3"
  },
  "language_info": {
   "codemirror_mode": {
    "name": "ipython",
    "version": 3
   },
   "file_extension": ".py",
   "mimetype": "text/x-python",
   "name": "python",
   "nbconvert_exporter": "python",
   "pygments_lexer": "ipython3",
   "version": "3.8.13"
  },
  "orig_nbformat": 4,
  "vscode": {
   "interpreter": {
    "hash": "7304d3c1a35396b9e299acc644b89f0e56d4154029b20ed6ab08effb23ac070c"
   }
  }
 },
 "nbformat": 4,
 "nbformat_minor": 2
}
