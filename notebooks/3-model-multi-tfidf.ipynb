{
 "cells": [
  {
   "cell_type": "markdown",
   "metadata": {},
   "source": [
    "## Requirements\n"
   ]
  },
  {
   "cell_type": "code",
   "execution_count": 1,
   "metadata": {},
   "outputs": [],
   "source": [
    "# Unable warnings\n",
    "import os\n",
    "import warnings\n",
    "\n",
    "warnings.filterwarnings(\"ignore\")\n",
    "os.environ['TF_CPP_MIN_LOG_LEVEL'] = '3'\n"
   ]
  },
  {
   "cell_type": "markdown",
   "metadata": {},
   "source": [
    "#### Directory adjustment\n"
   ]
  },
  {
   "cell_type": "code",
   "execution_count": 2,
   "metadata": {},
   "outputs": [],
   "source": [
    "from pathlib import Path\n",
    "import sys\n",
    "import os\n",
    "# Back to main folder\n",
    "path = os.path.dirname(os.getcwd())+\"/\"\n",
    "os.chdir(path)\n",
    "sys.path.append(path)\n"
   ]
  },
  {
   "cell_type": "markdown",
   "metadata": {},
   "source": [
    "#### Data Processing\n"
   ]
  },
  {
   "cell_type": "code",
   "execution_count": 3,
   "metadata": {},
   "outputs": [],
   "source": [
    "# ETL\n",
    "import numpy as np\n",
    "import pandas as pd\n",
    "from pandas import MultiIndex, Int64Index\n",
    "# ML preprocessing\n",
    "from sklearn.preprocessing import label_binarize\n",
    "from sklearn.model_selection import train_test_split\n",
    "from sklearn.preprocessing import StandardScaler\n",
    "from sklearn.model_selection import KFold\n"
   ]
  },
  {
   "cell_type": "markdown",
   "metadata": {},
   "source": [
    "#### Natural language processing\n"
   ]
  },
  {
   "cell_type": "code",
   "execution_count": 4,
   "metadata": {},
   "outputs": [],
   "source": [
    "import gensim\n",
    "import spacy\n",
    "import re \n",
    "\n",
    "# Vectorization\n",
    "from sklearn.feature_extraction.text import CountVectorizer\n",
    "from sklearn.feature_extraction.text import TfidfVectorizer\n",
    "from gensim.models import KeyedVectors\n"
   ]
  },
  {
   "cell_type": "markdown",
   "metadata": {},
   "source": [
    "#### Models\n"
   ]
  },
  {
   "cell_type": "code",
   "execution_count": 5,
   "metadata": {},
   "outputs": [],
   "source": [
    "# Pipe\n",
    "from sklearn.pipeline import Pipeline\n",
    "# Models\n",
    "from sklearn.ensemble import RandomForestClassifier\n",
    "from sklearn.linear_model import LogisticRegression\n",
    "from sklearn.multiclass import OneVsRestClassifier\n",
    "from sklearn.tree import DecisionTreeClassifier\n",
    "from sklearn.linear_model import SGDClassifier\n",
    "from sklearn.naive_bayes import MultinomialNB\n",
    "from sklearn.naive_bayes import BernoulliNB\n",
    "from sklearn.svm import LinearSVC\n",
    "from sklearn import svm\n",
    "from sklearn.neighbors import KNeighborsClassifier\n",
    "from sklearn.ensemble import GradientBoostingClassifier\n",
    "from xgboost.sklearn import XGBClassifier\n",
    "# Metrics\n",
    "from sklearn.metrics import balanced_accuracy_score\n",
    "from sklearn.model_selection import cross_val_score\n",
    "from sklearn.metrics import classification_report\n",
    "from src.ModelAnalysis import ranking_recall\n",
    "\n",
    "from sklearn.metrics import precision_score\n",
    "from sklearn.metrics import accuracy_score\n",
    "from sklearn.metrics import recall_score\n",
    "from sklearn.metrics import roc_auc_score\n",
    "from sklearn.metrics import f1_score\n"
   ]
  },
  {
   "cell_type": "markdown",
   "metadata": {},
   "source": [
    "### Tracking"
   ]
  },
  {
   "cell_type": "code",
   "execution_count": 6,
   "metadata": {},
   "outputs": [
    {
     "data": {
      "text/plain": [
       "<Experiment: artifact_location='./artifacts/1', creation_time=1665929754799, experiment_id='1', last_update_time=1665929754799, lifecycle_stage='active', name='Hate Speech', tags={}>"
      ]
     },
     "execution_count": 6,
     "metadata": {},
     "output_type": "execute_result"
    }
   ],
   "source": [
    "import mlflow\n",
    "mlflow.set_tracking_uri('http://127.0.0.1:5000')\n",
    "mlflow.set_experiment('Hate Speech')"
   ]
  },
  {
   "cell_type": "markdown",
   "metadata": {},
   "source": [
    "## Set and split train and test data\n"
   ]
  },
  {
   "cell_type": "code",
   "execution_count": 7,
   "metadata": {},
   "outputs": [
    {
     "data": {
      "text/html": [
       "<div>\n",
       "<style scoped>\n",
       "    .dataframe tbody tr th:only-of-type {\n",
       "        vertical-align: middle;\n",
       "    }\n",
       "\n",
       "    .dataframe tbody tr th {\n",
       "        vertical-align: top;\n",
       "    }\n",
       "\n",
       "    .dataframe thead th {\n",
       "        text-align: right;\n",
       "    }\n",
       "</style>\n",
       "<table border=\"1\" class=\"dataframe\">\n",
       "  <thead>\n",
       "    <tr style=\"text-align: right;\">\n",
       "      <th></th>\n",
       "      <th>text_nonstop</th>\n",
       "      <th>text_lemma</th>\n",
       "      <th>text</th>\n",
       "      <th>length_text_nonstop</th>\n",
       "      <th>length_text_lemma</th>\n",
       "      <th>length_text</th>\n",
       "      <th>label</th>\n",
       "      <th>count_word_text_nonstop</th>\n",
       "      <th>count_word_text_lemma</th>\n",
       "      <th>count_word_text</th>\n",
       "      <th>...</th>\n",
       "      <th>pron</th>\n",
       "      <th>adp</th>\n",
       "      <th>aux</th>\n",
       "      <th>cconj</th>\n",
       "      <th>num</th>\n",
       "      <th>space</th>\n",
       "      <th>intj</th>\n",
       "      <th>sym</th>\n",
       "      <th>punct</th>\n",
       "      <th>part</th>\n",
       "    </tr>\n",
       "  </thead>\n",
       "  <tbody>\n",
       "    <tr>\n",
       "      <th>0</th>\n",
       "      <td>cara vive outro mundo nao mundo real refugiado...</td>\n",
       "      <td>caro viver outro mundo nao mundo real refugiad...</td>\n",
       "      <td>nomeusuario o cara vive em outro mundo nao no ...</td>\n",
       "      <td>85</td>\n",
       "      <td>82</td>\n",
       "      <td>124</td>\n",
       "      <td>1</td>\n",
       "      <td>19</td>\n",
       "      <td>19</td>\n",
       "      <td>20</td>\n",
       "      <td>...</td>\n",
       "      <td>0</td>\n",
       "      <td>0</td>\n",
       "      <td>0</td>\n",
       "      <td>0</td>\n",
       "      <td>0</td>\n",
       "      <td>0</td>\n",
       "      <td>0</td>\n",
       "      <td>0</td>\n",
       "      <td>0</td>\n",
       "      <td>0</td>\n",
       "    </tr>\n",
       "    <tr>\n",
       "      <th>1</th>\n",
       "      <td>incompetentes nao cuidam povo brasileiro pouco...</td>\n",
       "      <td>incompetente nao cuidar povo brasileiro pouco ...</td>\n",
       "      <td>nomeusuario estes incompetentes nao cuidam nem...</td>\n",
       "      <td>69</td>\n",
       "      <td>66</td>\n",
       "      <td>108</td>\n",
       "      <td>0</td>\n",
       "      <td>20</td>\n",
       "      <td>20</td>\n",
       "      <td>20</td>\n",
       "      <td>...</td>\n",
       "      <td>0</td>\n",
       "      <td>0</td>\n",
       "      <td>0</td>\n",
       "      <td>0</td>\n",
       "      <td>0</td>\n",
       "      <td>0</td>\n",
       "      <td>0</td>\n",
       "      <td>0</td>\n",
       "      <td>0</td>\n",
       "      <td>0</td>\n",
       "    </tr>\n",
       "  </tbody>\n",
       "</table>\n",
       "<p>2 rows × 27 columns</p>\n",
       "</div>"
      ],
      "text/plain": [
       "                                        text_nonstop  \\\n",
       "0  cara vive outro mundo nao mundo real refugiado...   \n",
       "1  incompetentes nao cuidam povo brasileiro pouco...   \n",
       "\n",
       "                                          text_lemma  \\\n",
       "0  caro viver outro mundo nao mundo real refugiad...   \n",
       "1  incompetente nao cuidar povo brasileiro pouco ...   \n",
       "\n",
       "                                                text  length_text_nonstop  \\\n",
       "0  nomeusuario o cara vive em outro mundo nao no ...                   85   \n",
       "1  nomeusuario estes incompetentes nao cuidam nem...                   69   \n",
       "\n",
       "   length_text_lemma  length_text  label  count_word_text_nonstop  \\\n",
       "0                 82          124      1                       19   \n",
       "1                 66          108      0                       20   \n",
       "\n",
       "   count_word_text_lemma  count_word_text  ...  pron  adp  aux  cconj  num  \\\n",
       "0                     19               20  ...     0    0    0      0    0   \n",
       "1                     20               20  ...     0    0    0      0    0   \n",
       "\n",
       "   space  intj  sym  punct  part  \n",
       "0      0     0    0      0     0  \n",
       "1      0     0    0      0     0  \n",
       "\n",
       "[2 rows x 27 columns]"
      ]
     },
     "execution_count": 7,
     "metadata": {},
     "output_type": "execute_result"
    }
   ],
   "source": [
    "# Get data\n",
    "df = pd.read_csv('data/corpus/augmented_corpus_fortuna.csv')\n",
    "df.head(2)\n"
   ]
  },
  {
   "cell_type": "code",
   "execution_count": 8,
   "metadata": {},
   "outputs": [],
   "source": [
    "# Set target and features\n",
    "target = 'label'\n",
    "features = 'text_nonstop'\n",
    "\n",
    "# Break apart dataset\n",
    "X = df[features].values.astype('U')\n",
    "y = df[target]\n",
    "\n",
    "\n",
    "# Split train abd test\n",
    "X_train, X_test, y_train, y_test = train_test_split(\n",
    "    X, y, stratify=y, test_size=0.2, random_state=42)\n",
    "\n",
    "# Set k-fold criteria\n",
    "k_fold = KFold(n_splits=10, shuffle=True, random_state=42)\n",
    "\n",
    "\n",
    "# Class weights\n",
    "pos = len(df.query('label==1'))\n",
    "neg = len(df.query('label==0'))\n",
    "weight_for_0 = (1 / neg) * (len(df) / 2.0)\n",
    "weight_for_1 = (1 / pos) * (len(df) / 2.0)\n",
    "class_weight = {0: weight_for_0, 1: weight_for_1}\n"
   ]
  },
  {
   "cell_type": "markdown",
   "metadata": {},
   "source": [
    "## Model building "
   ]
  },
  {
   "cell_type": "markdown",
   "metadata": {},
   "source": [
    "#### Basic structure\n"
   ]
  },
  {
   "cell_type": "code",
   "execution_count": 10,
   "metadata": {},
   "outputs": [
    {
     "name": "stdout",
     "output_type": "stream",
     "text": [
      "[11:19:00] WARNING: /tmp/abs_40obctay9q/croots/recipe/xgboost-split_1659548945886/work/src/learner.cc:1115: Starting in XGBoost 1.3.0, the default evaluation metric used with the objective 'binary:logistic' was changed from 'error' to 'logloss'. Explicitly set eval_metric if you'd like to restore the old behavior.\n"
     ]
    },
    {
     "data": {
      "text/html": [
       "<div>\n",
       "<style scoped>\n",
       "    .dataframe tbody tr th:only-of-type {\n",
       "        vertical-align: middle;\n",
       "    }\n",
       "\n",
       "    .dataframe tbody tr th {\n",
       "        vertical-align: top;\n",
       "    }\n",
       "\n",
       "    .dataframe thead th {\n",
       "        text-align: right;\n",
       "    }\n",
       "</style>\n",
       "<table border=\"1\" class=\"dataframe\">\n",
       "  <thead>\n",
       "    <tr style=\"text-align: right;\">\n",
       "      <th></th>\n",
       "      <th>0</th>\n",
       "      <th>1</th>\n",
       "      <th>accuracy</th>\n",
       "      <th>macro avg</th>\n",
       "      <th>weighted avg</th>\n",
       "    </tr>\n",
       "  </thead>\n",
       "  <tbody>\n",
       "    <tr>\n",
       "      <th>precision</th>\n",
       "      <td>0.774834</td>\n",
       "      <td>0.671053</td>\n",
       "      <td>0.753968</td>\n",
       "      <td>0.722944</td>\n",
       "      <td>0.742162</td>\n",
       "    </tr>\n",
       "    <tr>\n",
       "      <th>recall</th>\n",
       "      <td>0.903475</td>\n",
       "      <td>0.428571</td>\n",
       "      <td>0.753968</td>\n",
       "      <td>0.666023</td>\n",
       "      <td>0.753968</td>\n",
       "    </tr>\n",
       "    <tr>\n",
       "      <th>f1-score</th>\n",
       "      <td>0.834225</td>\n",
       "      <td>0.523077</td>\n",
       "      <td>0.753968</td>\n",
       "      <td>0.678651</td>\n",
       "      <td>0.736271</td>\n",
       "    </tr>\n",
       "    <tr>\n",
       "      <th>support</th>\n",
       "      <td>777.000000</td>\n",
       "      <td>357.000000</td>\n",
       "      <td>0.753968</td>\n",
       "      <td>1134.000000</td>\n",
       "      <td>1134.000000</td>\n",
       "    </tr>\n",
       "  </tbody>\n",
       "</table>\n",
       "</div>"
      ],
      "text/plain": [
       "                    0           1  accuracy    macro avg  weighted avg\n",
       "precision    0.774834    0.671053  0.753968     0.722944      0.742162\n",
       "recall       0.903475    0.428571  0.753968     0.666023      0.753968\n",
       "f1-score     0.834225    0.523077  0.753968     0.678651      0.736271\n",
       "support    777.000000  357.000000  0.753968  1134.000000   1134.000000"
      ]
     },
     "execution_count": 10,
     "metadata": {},
     "output_type": "execute_result"
    }
   ],
   "source": [
    "# Pipe\n",
    "clf = Pipeline([('vectorizer', TfidfVectorizer(lowercase=False,\n",
    "                                               analyzer=\"word\",\n",
    "                                               norm='l2',\n",
    "                                               ngram_range=(1, 2),\n",
    "                                               max_features=1500)),\n",
    "                ('classifier', XGBClassifier(random_state=42, seed=42, colsample_bytree=0.6, subsample=0.7))])\n",
    "\n",
    "# Train\n",
    "clf.fit(X_train, y_train)\n",
    "\n",
    "# Evaluate\n",
    "pd.DataFrame(classification_report(\n",
    "    y_test, clf.predict(X_test), output_dict=True))\n"
   ]
  },
  {
   "cell_type": "markdown",
   "metadata": {},
   "source": [
    "#### Multi model test"
   ]
  },
  {
   "cell_type": "code",
   "execution_count": 11,
   "metadata": {},
   "outputs": [],
   "source": [
    "vectorizer = TfidfVectorizer(lowercase=False, analyzer=\"word\",\n",
    "                             norm='l2', ngram_range=(1, 2), max_features=1500)\n"
   ]
  },
  {
   "cell_type": "code",
   "execution_count": 12,
   "metadata": {},
   "outputs": [],
   "source": [
    "classifiers = {'GradientBoosting': GradientBoostingClassifier(),\n",
    "               'KNeighbors': KNeighborsClassifier(),\n",
    "               'MultinomialNB': MultinomialNB(alpha=1.0, fit_prior=True, class_prior=None),\n",
    "               'Bernoulli': BernoulliNB(alpha=1.0, binarize=0.0, fit_prior=True, class_prior=None),\n",
    "               'SVC': LinearSVC(penalty='l2', loss='squared_hinge', dual=True, tol=0.0001, C=1.0, multi_class='crammer_singer', fit_intercept=True, intercept_scaling=1, class_weight=class_weight, verbose=0, random_state=42, max_iter=1000),\n",
    "               'LogisticRegression': LogisticRegression(penalty='l2', max_iter=200, C=1),\n",
    "               'SGDC': SGDClassifier(loss='hinge', max_iter=200),\n",
    "               'DecisionTree': DecisionTreeClassifier(random_state=42, class_weight=class_weight),\n",
    "               'RandomForest': RandomForestClassifier(random_state=42, class_weight=class_weight),\n",
    "               'SVM': svm.SVC(kernel='rbf')}\n"
   ]
  },
  {
   "cell_type": "code",
   "execution_count": 13,
   "metadata": {},
   "outputs": [],
   "source": [
    "for model_name, classifier in classifiers.items():\n",
    "    mlflow.sklearn.autolog()\n",
    "    with mlflow.start_run():\n",
    "        ml_pipe = Pipeline([('vectorizer', vectorizer),\n",
    "                           ('classifier', classifier)])\n",
    "\n",
    "        # Model fit\n",
    "        ml_pipe.fit(X_train, y_train)\n",
    "        y_predict = ml_pipe.predict(X_test)\n",
    "\n",
    "        # Tracking\n",
    "        mlflow.log_params(ml_pipe.get_params())\n",
    "        mlflow.log_metric('precision', precision_score(y_test, y_predict))\n",
    "        mlflow.log_metric('accuracy', accuracy_score(y_test, y_predict))\n",
    "        mlflow.log_metric('recall', recall_score(y_test, y_predict))\n",
    "        mlflow.log_metric('auc', roc_auc_score(y_test, y_predict))\n",
    "        mlflow.log_metric('f1', f1_score(y_test, y_predict))\n",
    "        mlflow.sklearn.log_model(ml_pipe, model_name)\n"
   ]
  }
 ],
 "metadata": {
  "kernelspec": {
   "display_name": "Python 3.8.13 ('hate-seepch')",
   "language": "python",
   "name": "python3"
  },
  "language_info": {
   "codemirror_mode": {
    "name": "ipython",
    "version": 3
   },
   "file_extension": ".py",
   "mimetype": "text/x-python",
   "name": "python",
   "nbconvert_exporter": "python",
   "pygments_lexer": "ipython3",
   "version": "3.8.13"
  },
  "orig_nbformat": 4,
  "vscode": {
   "interpreter": {
    "hash": "7304d3c1a35396b9e299acc644b89f0e56d4154029b20ed6ab08effb23ac070c"
   }
  }
 },
 "nbformat": 4,
 "nbformat_minor": 2
}
